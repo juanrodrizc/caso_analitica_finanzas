{
 "cells": [
  {
   "cell_type": "code",
   "execution_count": 1,
   "metadata": {},
   "outputs": [],
   "source": [
    "import sqlite3 as sql\n",
    "import pandas as pd\n",
    "import matplotlib.pyplot as plt\n",
    "import seaborn as sns\n",
    "from PIL import Image\n",
    "import numpy as np\n",
    "import datetime\n",
    "import plotly.express as px\n",
    "import joblib\n",
    "import Funciones as fn\n",
    "from unidecode import unidecode #  Esta función convierte los caracteres a su forma sin diacríticos, lo que incluye eliminar las tildes."
   ]
  },
  {
   "attachments": {},
   "cell_type": "markdown",
   "metadata": {},
   "source": [
    "# **Diseño de la Solución**"
   ]
  },
  {
   "cell_type": "code",
   "execution_count": 2,
   "metadata": {},
   "outputs": [],
   "source": [
    "i=Image.open('diseño_solución.png','r') \n",
    "i.show()"
   ]
  },
  {
   "attachments": {},
   "cell_type": "markdown",
   "metadata": {},
   "source": [
    "# **Exploración**"
   ]
  },
  {
   "attachments": {},
   "cell_type": "markdown",
   "metadata": {},
   "source": [
    "### **Conectar BD**"
   ]
  },
  {
   "cell_type": "code",
   "execution_count": 3,
   "metadata": {},
   "outputs": [],
   "source": [
    "###### para ejecutar sql y conectarse a bd #####\n",
    "conn=sql.connect('BD_insurance2019dataset')\n",
    "cur=conn.cursor()"
   ]
  },
  {
   "cell_type": "code",
   "execution_count": 4,
   "metadata": {},
   "outputs": [
    {
     "data": {
      "text/html": [
       "<div>\n",
       "<style scoped>\n",
       "    .dataframe tbody tr th:only-of-type {\n",
       "        vertical-align: middle;\n",
       "    }\n",
       "\n",
       "    .dataframe tbody tr th {\n",
       "        vertical-align: top;\n",
       "    }\n",
       "\n",
       "    .dataframe thead th {\n",
       "        text-align: right;\n",
       "    }\n",
       "</style>\n",
       "<table border=\"1\" class=\"dataframe\">\n",
       "  <thead>\n",
       "    <tr style=\"text-align: right;\">\n",
       "      <th></th>\n",
       "      <th>type</th>\n",
       "      <th>name</th>\n",
       "      <th>tbl_name</th>\n",
       "      <th>rootpage</th>\n",
       "      <th>sql</th>\n",
       "    </tr>\n",
       "  </thead>\n",
       "  <tbody>\n",
       "    <tr>\n",
       "      <th>0</th>\n",
       "      <td>table</td>\n",
       "      <td>reclamaciones</td>\n",
       "      <td>reclamaciones</td>\n",
       "      <td>2</td>\n",
       "      <td>CREATE TABLE reclamaciones (Reclamacion_Id INT...</td>\n",
       "    </tr>\n",
       "    <tr>\n",
       "      <th>1</th>\n",
       "      <td>table</td>\n",
       "      <td>diagnosticos</td>\n",
       "      <td>diagnosticos</td>\n",
       "      <td>3</td>\n",
       "      <td>CREATE TABLE diagnosticos (Diagnostico_Codigo ...</td>\n",
       "    </tr>\n",
       "    <tr>\n",
       "      <th>2</th>\n",
       "      <td>table</td>\n",
       "      <td>regional</td>\n",
       "      <td>regional</td>\n",
       "      <td>42</td>\n",
       "      <td>CREATE TABLE regional (Regional_id INTEGER, Re...</td>\n",
       "    </tr>\n",
       "    <tr>\n",
       "      <th>3</th>\n",
       "      <td>table</td>\n",
       "      <td>genero</td>\n",
       "      <td>genero</td>\n",
       "      <td>43</td>\n",
       "      <td>CREATE TABLE genero (Sexo_Cd TEXT, Sexo_desc T...</td>\n",
       "    </tr>\n",
       "    <tr>\n",
       "      <th>4</th>\n",
       "      <td>table</td>\n",
       "      <td>sociodemograficas</td>\n",
       "      <td>sociodemograficas</td>\n",
       "      <td>44</td>\n",
       "      <td>CREATE TABLE sociodemograficas (Afiliado_Id IN...</td>\n",
       "    </tr>\n",
       "    <tr>\n",
       "      <th>5</th>\n",
       "      <td>table</td>\n",
       "      <td>utilizaciones</td>\n",
       "      <td>utilizaciones</td>\n",
       "      <td>1328</td>\n",
       "      <td>CREATE TABLE utilizaciones (Fecha_Reclamacion ...</td>\n",
       "    </tr>\n",
       "  </tbody>\n",
       "</table>\n",
       "</div>"
      ],
      "text/plain": [
       "    type               name           tbl_name  rootpage  \\\n",
       "0  table      reclamaciones      reclamaciones         2   \n",
       "1  table       diagnosticos       diagnosticos         3   \n",
       "2  table           regional           regional        42   \n",
       "3  table             genero             genero        43   \n",
       "4  table  sociodemograficas  sociodemograficas        44   \n",
       "5  table      utilizaciones      utilizaciones      1328   \n",
       "\n",
       "                                                 sql  \n",
       "0  CREATE TABLE reclamaciones (Reclamacion_Id INT...  \n",
       "1  CREATE TABLE diagnosticos (Diagnostico_Codigo ...  \n",
       "2  CREATE TABLE regional (Regional_id INTEGER, Re...  \n",
       "3  CREATE TABLE genero (Sexo_Cd TEXT, Sexo_desc T...  \n",
       "4  CREATE TABLE sociodemograficas (Afiliado_Id IN...  \n",
       "5  CREATE TABLE utilizaciones (Fecha_Reclamacion ...  "
      ]
     },
     "execution_count": 4,
     "metadata": {},
     "output_type": "execute_result"
    }
   ],
   "source": [
    "### para verificar las tablas que hay disponibles ###\n",
    "pd.read_sql_query(\"SELECT * FROM sqlite_master; \",conn)"
   ]
  },
  {
   "attachments": {},
   "cell_type": "markdown",
   "metadata": {},
   "source": [
    "**Cargar Tablas**"
   ]
  },
  {
   "cell_type": "code",
   "execution_count": 5,
   "metadata": {},
   "outputs": [],
   "source": [
    "regional = pd.read_sql(\"SELECT * FROM regional; \",conn)\n",
    "genero = pd.read_sql(\"SELECT * FROM genero; \",conn)\n",
    "diagnosticos = pd.read_sql(\"SELECT * FROM diagnosticos; \",conn)"
   ]
  },
  {
   "attachments": {},
   "cell_type": "markdown",
   "metadata": {},
   "source": [
    "### **Identificar campos de cruce, verificar que estén en mismo formato y duplicados**"
   ]
  },
  {
   "attachments": {},
   "cell_type": "markdown",
   "metadata": {},
   "source": [
    "#### **Tabla Diagnósticos**"
   ]
  },
  {
   "cell_type": "code",
   "execution_count": 6,
   "metadata": {},
   "outputs": [
    {
     "name": "stdout",
     "output_type": "stream",
     "text": [
      "<class 'pandas.core.frame.DataFrame'>\n",
      "RangeIndex: 2724 entries, 0 to 2723\n",
      "Data columns (total 2 columns):\n",
      " #   Column              Non-Null Count  Dtype \n",
      "---  ------              --------------  ----- \n",
      " 0   Diagnostico_Codigo  2724 non-null   object\n",
      " 1   Diagnostico_Desc    2724 non-null   object\n",
      "dtypes: object(2)\n",
      "memory usage: 42.7+ KB\n"
     ]
    },
    {
     "data": {
      "text/plain": [
       "0"
      ]
     },
     "execution_count": 6,
     "metadata": {},
     "output_type": "execute_result"
    }
   ],
   "source": [
    "diagnosticos.info() # Se cuenta con 2 campos, el Diagnostico_Codigo  y el Diagnostico_Desc\n",
    "diagnosticos.duplicated().sum() #La tabla no tiene duplicados"
   ]
  },
  {
   "cell_type": "code",
   "execution_count": 7,
   "metadata": {},
   "outputs": [
    {
     "data": {
      "text/html": [
       "<div>\n",
       "<style scoped>\n",
       "    .dataframe tbody tr th:only-of-type {\n",
       "        vertical-align: middle;\n",
       "    }\n",
       "\n",
       "    .dataframe tbody tr th {\n",
       "        vertical-align: top;\n",
       "    }\n",
       "\n",
       "    .dataframe thead th {\n",
       "        text-align: right;\n",
       "    }\n",
       "</style>\n",
       "<table border=\"1\" class=\"dataframe\">\n",
       "  <thead>\n",
       "    <tr style=\"text-align: right;\">\n",
       "      <th></th>\n",
       "      <th>Diagnostico_Codigo</th>\n",
       "      <th>Diagnostico_Desc</th>\n",
       "    </tr>\n",
       "  </thead>\n",
       "  <tbody>\n",
       "    <tr>\n",
       "      <th>0</th>\n",
       "      <td>-1</td>\n",
       "      <td>Sin Información</td>\n",
       "    </tr>\n",
       "    <tr>\n",
       "      <th>1</th>\n",
       "      <td>0</td>\n",
       "      <td>DIAGNÓSTICO PENDIENTE</td>\n",
       "    </tr>\n",
       "    <tr>\n",
       "      <th>2</th>\n",
       "      <td>9</td>\n",
       "      <td>DIAGNÓSTICO PENDIENTE</td>\n",
       "    </tr>\n",
       "    <tr>\n",
       "      <th>3</th>\n",
       "      <td>A010</td>\n",
       "      <td>FIEBRE TIFOIDEA</td>\n",
       "    </tr>\n",
       "    <tr>\n",
       "      <th>4</th>\n",
       "      <td>A021</td>\n",
       "      <td>SEPTICEMIA DEBIDA A SALMONELLA</td>\n",
       "    </tr>\n",
       "  </tbody>\n",
       "</table>\n",
       "</div>"
      ],
      "text/plain": [
       "  Diagnostico_Codigo                Diagnostico_Desc\n",
       "0                 -1                 Sin Información\n",
       "1                  0           DIAGNÓSTICO PENDIENTE\n",
       "2                  9           DIAGNÓSTICO PENDIENTE\n",
       "3               A010                 FIEBRE TIFOIDEA\n",
       "4               A021  SEPTICEMIA DEBIDA A SALMONELLA"
      ]
     },
     "execution_count": 7,
     "metadata": {},
     "output_type": "execute_result"
    }
   ],
   "source": [
    "diagnosticos.head()"
   ]
  },
  {
   "cell_type": "code",
   "execution_count": 8,
   "metadata": {},
   "outputs": [],
   "source": [
    "# Eliminar las filas con Diagnostico_Desc = \"DIAGNÓSTICO PENDIENTE\"\n",
    "diagnosticos = diagnosticos[diagnosticos[\"Diagnostico_Desc\"] != \"DIAGNÓSTICO PENDIENTE\"]"
   ]
  },
  {
   "cell_type": "code",
   "execution_count": 9,
   "metadata": {},
   "outputs": [
    {
     "data": {
      "text/html": [
       "<div>\n",
       "<style scoped>\n",
       "    .dataframe tbody tr th:only-of-type {\n",
       "        vertical-align: middle;\n",
       "    }\n",
       "\n",
       "    .dataframe tbody tr th {\n",
       "        vertical-align: top;\n",
       "    }\n",
       "\n",
       "    .dataframe thead th {\n",
       "        text-align: right;\n",
       "    }\n",
       "</style>\n",
       "<table border=\"1\" class=\"dataframe\">\n",
       "  <thead>\n",
       "    <tr style=\"text-align: right;\">\n",
       "      <th></th>\n",
       "      <th>Diagnostico_Codigo</th>\n",
       "      <th>Diagnostico_Desc</th>\n",
       "    </tr>\n",
       "  </thead>\n",
       "  <tbody>\n",
       "    <tr>\n",
       "      <th>0</th>\n",
       "      <td>-1</td>\n",
       "      <td>Sin Información</td>\n",
       "    </tr>\n",
       "    <tr>\n",
       "      <th>3</th>\n",
       "      <td>A010</td>\n",
       "      <td>FIEBRE TIFOIDEA</td>\n",
       "    </tr>\n",
       "    <tr>\n",
       "      <th>4</th>\n",
       "      <td>A021</td>\n",
       "      <td>SEPTICEMIA DEBIDA A SALMONELLA</td>\n",
       "    </tr>\n",
       "    <tr>\n",
       "      <th>5</th>\n",
       "      <td>A028</td>\n",
       "      <td>OTRAS INFECCIONES ESPECIFICADAS COMO DEBIDAS A...</td>\n",
       "    </tr>\n",
       "    <tr>\n",
       "      <th>6</th>\n",
       "      <td>A047</td>\n",
       "      <td>ENTEROCOLITIS DEBIDA A CLOSTRIDIUM DIFFICILE</td>\n",
       "    </tr>\n",
       "    <tr>\n",
       "      <th>...</th>\n",
       "      <td>...</td>\n",
       "      <td>...</td>\n",
       "    </tr>\n",
       "    <tr>\n",
       "      <th>2719</th>\n",
       "      <td>Z961</td>\n",
       "      <td>PRESENCIA DE LENTES INTRAOCULARES</td>\n",
       "    </tr>\n",
       "    <tr>\n",
       "      <th>2720</th>\n",
       "      <td>Z966</td>\n",
       "      <td>PRESENCIA DE IMPLANTE ORTOPÉDICO ARTICULAR</td>\n",
       "    </tr>\n",
       "    <tr>\n",
       "      <th>2721</th>\n",
       "      <td>Z975</td>\n",
       "      <td>PRESENCIA DE DISPOSITIVO ANTICONCEPTIVO (INTRA...</td>\n",
       "    </tr>\n",
       "    <tr>\n",
       "      <th>2722</th>\n",
       "      <td>Z980</td>\n",
       "      <td>ESTADO DE DERIVACIÓN INTESTINAL O ANASTOMOSIS</td>\n",
       "    </tr>\n",
       "    <tr>\n",
       "      <th>2723</th>\n",
       "      <td>Z988</td>\n",
       "      <td>OTROS ESTADOS POSTQUIRÚRGICOS ESPECIFICADOS</td>\n",
       "    </tr>\n",
       "  </tbody>\n",
       "</table>\n",
       "<p>2722 rows × 2 columns</p>\n",
       "</div>"
      ],
      "text/plain": [
       "     Diagnostico_Codigo                                   Diagnostico_Desc\n",
       "0                    -1                                    Sin Información\n",
       "3                  A010                                    FIEBRE TIFOIDEA\n",
       "4                  A021                     SEPTICEMIA DEBIDA A SALMONELLA\n",
       "5                  A028  OTRAS INFECCIONES ESPECIFICADAS COMO DEBIDAS A...\n",
       "6                  A047       ENTEROCOLITIS DEBIDA A CLOSTRIDIUM DIFFICILE\n",
       "...                 ...                                                ...\n",
       "2719               Z961                  PRESENCIA DE LENTES INTRAOCULARES\n",
       "2720               Z966         PRESENCIA DE IMPLANTE ORTOPÉDICO ARTICULAR\n",
       "2721               Z975  PRESENCIA DE DISPOSITIVO ANTICONCEPTIVO (INTRA...\n",
       "2722               Z980      ESTADO DE DERIVACIÓN INTESTINAL O ANASTOMOSIS\n",
       "2723               Z988        OTROS ESTADOS POSTQUIRÚRGICOS ESPECIFICADOS\n",
       "\n",
       "[2722 rows x 2 columns]"
      ]
     },
     "execution_count": 9,
     "metadata": {},
     "output_type": "execute_result"
    }
   ],
   "source": [
    "diagnosticos"
   ]
  },
  {
   "cell_type": "code",
   "execution_count": 10,
   "metadata": {},
   "outputs": [
    {
     "data": {
      "text/plain": [
       "APENDICITIS, NO ESPECIFICADA                                   2\n",
       "EDEMA PULMONAR                                                 2\n",
       "SÍNCOPE Y COLAPSO                                              2\n",
       "CUERPO EXTRAÑO EN EL OÍDO                                      2\n",
       "MALESTAR Y FATIGA                                              2\n",
       "                                                              ..\n",
       "INFARTO AGUDO DEL MIOCARDIO                                    1\n",
       "INFARTO SUBSECUENTE DEL MIOCARDIO, DE PARTE NO ESPECIFICADA    1\n",
       "OTRAS FORMAS DE ENFERMEDAD ISQUÉMICA AGUDA DEL CORAZÓN         1\n",
       "ENFERMEDAD CARDIOVASCULAR ATEROSCLERÓTICA, ASÍ DESCRITA        1\n",
       "OTROS ESTADOS POSTQUIRÚRGICOS ESPECIFICADOS                    1\n",
       "Name: Diagnostico_Desc, Length: 2699, dtype: int64"
      ]
     },
     "execution_count": 10,
     "metadata": {},
     "output_type": "execute_result"
    }
   ],
   "source": [
    "diagnosticos['Diagnostico_Desc'].value_counts()"
   ]
  },
  {
   "cell_type": "code",
   "execution_count": 11,
   "metadata": {},
   "outputs": [
    {
     "data": {
      "text/html": [
       "<div>\n",
       "<style scoped>\n",
       "    .dataframe tbody tr th:only-of-type {\n",
       "        vertical-align: middle;\n",
       "    }\n",
       "\n",
       "    .dataframe tbody tr th {\n",
       "        vertical-align: top;\n",
       "    }\n",
       "\n",
       "    .dataframe thead th {\n",
       "        text-align: right;\n",
       "    }\n",
       "</style>\n",
       "<table border=\"1\" class=\"dataframe\">\n",
       "  <thead>\n",
       "    <tr style=\"text-align: right;\">\n",
       "      <th></th>\n",
       "      <th>Diagnostico_Codigo</th>\n",
       "      <th>Diagnostico_Desc</th>\n",
       "    </tr>\n",
       "  </thead>\n",
       "  <tbody>\n",
       "    <tr>\n",
       "      <th>0</th>\n",
       "      <td>-1</td>\n",
       "      <td>SIN INFORMACION</td>\n",
       "    </tr>\n",
       "    <tr>\n",
       "      <th>3</th>\n",
       "      <td>A010</td>\n",
       "      <td>FIEBRE TIFOIDEA</td>\n",
       "    </tr>\n",
       "    <tr>\n",
       "      <th>4</th>\n",
       "      <td>A021</td>\n",
       "      <td>SEPTICEMIA DEBIDA A SALMONELLA</td>\n",
       "    </tr>\n",
       "    <tr>\n",
       "      <th>5</th>\n",
       "      <td>A028</td>\n",
       "      <td>OTRAS INFECCIONES ESPECIFICADAS COMO DEBIDAS A...</td>\n",
       "    </tr>\n",
       "    <tr>\n",
       "      <th>6</th>\n",
       "      <td>A047</td>\n",
       "      <td>ENTEROCOLITIS DEBIDA A CLOSTRIDIUM DIFFICILE</td>\n",
       "    </tr>\n",
       "  </tbody>\n",
       "</table>\n",
       "</div>"
      ],
      "text/plain": [
       "  Diagnostico_Codigo                                   Diagnostico_Desc\n",
       "0                 -1                                    SIN INFORMACION\n",
       "3               A010                                    FIEBRE TIFOIDEA\n",
       "4               A021                     SEPTICEMIA DEBIDA A SALMONELLA\n",
       "5               A028  OTRAS INFECCIONES ESPECIFICADAS COMO DEBIDAS A...\n",
       "6               A047       ENTEROCOLITIS DEBIDA A CLOSTRIDIUM DIFFICILE"
      ]
     },
     "execution_count": 11,
     "metadata": {},
     "output_type": "execute_result"
    }
   ],
   "source": [
    "diagnosticos['Diagnostico_Desc'] = diagnosticos['Diagnostico_Desc'].apply(lambda x: unidecode(x) if isinstance(x, str) else x)\n",
    "#Se elimina tildes\n",
    "diagnosticos['Diagnostico_Desc'] = diagnosticos['Diagnostico_Desc'].str.upper() #Se cambia todos los datos a mayúscula\n",
    "diagnosticos.head()"
   ]
  },
  {
   "attachments": {},
   "cell_type": "markdown",
   "metadata": {},
   "source": [
    "#### **Tabla Género**"
   ]
  },
  {
   "cell_type": "code",
   "execution_count": 12,
   "metadata": {},
   "outputs": [
    {
     "name": "stdout",
     "output_type": "stream",
     "text": [
      "<class 'pandas.core.frame.DataFrame'>\n",
      "RangeIndex: 3 entries, 0 to 2\n",
      "Data columns (total 2 columns):\n",
      " #   Column     Non-Null Count  Dtype \n",
      "---  ------     --------------  ----- \n",
      " 0   Sexo_Cd    3 non-null      object\n",
      " 1   Sexo_desc  3 non-null      object\n",
      "dtypes: object(2)\n",
      "memory usage: 176.0+ bytes\n"
     ]
    },
    {
     "data": {
      "text/plain": [
       "0"
      ]
     },
     "execution_count": 12,
     "metadata": {},
     "output_type": "execute_result"
    }
   ],
   "source": [
    "genero.info() # Se observa que tiene 2 campos, el Sexo cd y la descripción \n",
    "genero.duplicated().sum() #No se tienen duplicados "
   ]
  },
  {
   "cell_type": "code",
   "execution_count": 13,
   "metadata": {},
   "outputs": [
    {
     "data": {
      "text/html": [
       "<div>\n",
       "<style scoped>\n",
       "    .dataframe tbody tr th:only-of-type {\n",
       "        vertical-align: middle;\n",
       "    }\n",
       "\n",
       "    .dataframe tbody tr th {\n",
       "        vertical-align: top;\n",
       "    }\n",
       "\n",
       "    .dataframe thead th {\n",
       "        text-align: right;\n",
       "    }\n",
       "</style>\n",
       "<table border=\"1\" class=\"dataframe\">\n",
       "  <thead>\n",
       "    <tr style=\"text-align: right;\">\n",
       "      <th></th>\n",
       "      <th>Sexo_Cd</th>\n",
       "      <th>Sexo_desc</th>\n",
       "    </tr>\n",
       "  </thead>\n",
       "  <tbody>\n",
       "    <tr>\n",
       "      <th>0</th>\n",
       "      <td>M</td>\n",
       "      <td>Masculino</td>\n",
       "    </tr>\n",
       "    <tr>\n",
       "      <th>1</th>\n",
       "      <td>F</td>\n",
       "      <td>Femenino</td>\n",
       "    </tr>\n",
       "    <tr>\n",
       "      <th>2</th>\n",
       "      <td>-1</td>\n",
       "      <td>Sin Informacion</td>\n",
       "    </tr>\n",
       "  </tbody>\n",
       "</table>\n",
       "</div>"
      ],
      "text/plain": [
       "  Sexo_Cd        Sexo_desc\n",
       "0       M        Masculino\n",
       "1       F         Femenino\n",
       "2      -1  Sin Informacion"
      ]
     },
     "execution_count": 13,
     "metadata": {},
     "output_type": "execute_result"
    }
   ],
   "source": [
    "genero.head() # Es una tabla descriptiva de los valores asociados en otras tablas"
   ]
  },
  {
   "cell_type": "code",
   "execution_count": 14,
   "metadata": {},
   "outputs": [
    {
     "data": {
      "text/html": [
       "<div>\n",
       "<style scoped>\n",
       "    .dataframe tbody tr th:only-of-type {\n",
       "        vertical-align: middle;\n",
       "    }\n",
       "\n",
       "    .dataframe tbody tr th {\n",
       "        vertical-align: top;\n",
       "    }\n",
       "\n",
       "    .dataframe thead th {\n",
       "        text-align: right;\n",
       "    }\n",
       "</style>\n",
       "<table border=\"1\" class=\"dataframe\">\n",
       "  <thead>\n",
       "    <tr style=\"text-align: right;\">\n",
       "      <th></th>\n",
       "      <th>Sexo_Cd</th>\n",
       "      <th>Sexo_desc</th>\n",
       "    </tr>\n",
       "  </thead>\n",
       "  <tbody>\n",
       "    <tr>\n",
       "      <th>0</th>\n",
       "      <td>M</td>\n",
       "      <td>MASCULINO</td>\n",
       "    </tr>\n",
       "    <tr>\n",
       "      <th>1</th>\n",
       "      <td>F</td>\n",
       "      <td>FEMENINO</td>\n",
       "    </tr>\n",
       "    <tr>\n",
       "      <th>2</th>\n",
       "      <td>-1</td>\n",
       "      <td>SIN INFORMACION</td>\n",
       "    </tr>\n",
       "  </tbody>\n",
       "</table>\n",
       "</div>"
      ],
      "text/plain": [
       "  Sexo_Cd        Sexo_desc\n",
       "0       M        MASCULINO\n",
       "1       F         FEMENINO\n",
       "2      -1  SIN INFORMACION"
      ]
     },
     "execution_count": 14,
     "metadata": {},
     "output_type": "execute_result"
    }
   ],
   "source": [
    "genero['Sexo_desc'] = genero['Sexo_desc'].apply(lambda x: unidecode(x) if isinstance(x, str) else x)\n",
    "#Se elimina tildes\n",
    "genero['Sexo_desc'] = genero['Sexo_desc'].str.upper() #Se cambia todos los datos a mayúscula\n",
    "genero.head()"
   ]
  },
  {
   "attachments": {},
   "cell_type": "markdown",
   "metadata": {},
   "source": [
    "#### **Tabla Regional**"
   ]
  },
  {
   "cell_type": "code",
   "execution_count": 15,
   "metadata": {},
   "outputs": [
    {
     "name": "stdout",
     "output_type": "stream",
     "text": [
      "<class 'pandas.core.frame.DataFrame'>\n",
      "RangeIndex: 6 entries, 0 to 5\n",
      "Data columns (total 2 columns):\n",
      " #   Column         Non-Null Count  Dtype \n",
      "---  ------         --------------  ----- \n",
      " 0   Regional_id    6 non-null      int64 \n",
      " 1   Regional_Desc  6 non-null      object\n",
      "dtypes: int64(1), object(1)\n",
      "memory usage: 224.0+ bytes\n"
     ]
    },
    {
     "data": {
      "text/plain": [
       "0"
      ]
     },
     "execution_count": 15,
     "metadata": {},
     "output_type": "execute_result"
    }
   ],
   "source": [
    "regional.info() # Se observa que tiene 2 campos, id de la región y descripción de cada región \n",
    "regional.duplicated().sum() #No se tienen duplicados"
   ]
  },
  {
   "cell_type": "code",
   "execution_count": 16,
   "metadata": {},
   "outputs": [
    {
     "data": {
      "text/html": [
       "<div>\n",
       "<style scoped>\n",
       "    .dataframe tbody tr th:only-of-type {\n",
       "        vertical-align: middle;\n",
       "    }\n",
       "\n",
       "    .dataframe tbody tr th {\n",
       "        vertical-align: top;\n",
       "    }\n",
       "\n",
       "    .dataframe thead th {\n",
       "        text-align: right;\n",
       "    }\n",
       "</style>\n",
       "<table border=\"1\" class=\"dataframe\">\n",
       "  <thead>\n",
       "    <tr style=\"text-align: right;\">\n",
       "      <th></th>\n",
       "      <th>Regional_id</th>\n",
       "      <th>Regional_Desc</th>\n",
       "    </tr>\n",
       "  </thead>\n",
       "  <tbody>\n",
       "    <tr>\n",
       "      <th>0</th>\n",
       "      <td>1</td>\n",
       "      <td>REGIONAL ANTIOQUIA</td>\n",
       "    </tr>\n",
       "    <tr>\n",
       "      <th>1</th>\n",
       "      <td>2</td>\n",
       "      <td>REGIONAL CENTRO</td>\n",
       "    </tr>\n",
       "    <tr>\n",
       "      <th>2</th>\n",
       "      <td>3</td>\n",
       "      <td>REGIONAL NORTE</td>\n",
       "    </tr>\n",
       "    <tr>\n",
       "      <th>3</th>\n",
       "      <td>4</td>\n",
       "      <td>REGIONAL OCCIDENTE</td>\n",
       "    </tr>\n",
       "    <tr>\n",
       "      <th>4</th>\n",
       "      <td>5</td>\n",
       "      <td>REGIONAL EJE CAFETERO</td>\n",
       "    </tr>\n",
       "    <tr>\n",
       "      <th>5</th>\n",
       "      <td>6</td>\n",
       "      <td>Sin Información</td>\n",
       "    </tr>\n",
       "  </tbody>\n",
       "</table>\n",
       "</div>"
      ],
      "text/plain": [
       "   Regional_id          Regional_Desc\n",
       "0            1     REGIONAL ANTIOQUIA\n",
       "1            2        REGIONAL CENTRO\n",
       "2            3         REGIONAL NORTE\n",
       "3            4     REGIONAL OCCIDENTE\n",
       "4            5  REGIONAL EJE CAFETERO\n",
       "5            6        Sin Información"
      ]
     },
     "execution_count": 16,
     "metadata": {},
     "output_type": "execute_result"
    }
   ],
   "source": [
    "regional.head(6) # Es una tabla descriptiva de los valores asociados en otras tablas"
   ]
  },
  {
   "cell_type": "code",
   "execution_count": 17,
   "metadata": {},
   "outputs": [
    {
     "data": {
      "text/html": [
       "<div>\n",
       "<style scoped>\n",
       "    .dataframe tbody tr th:only-of-type {\n",
       "        vertical-align: middle;\n",
       "    }\n",
       "\n",
       "    .dataframe tbody tr th {\n",
       "        vertical-align: top;\n",
       "    }\n",
       "\n",
       "    .dataframe thead th {\n",
       "        text-align: right;\n",
       "    }\n",
       "</style>\n",
       "<table border=\"1\" class=\"dataframe\">\n",
       "  <thead>\n",
       "    <tr style=\"text-align: right;\">\n",
       "      <th></th>\n",
       "      <th>Regional_id</th>\n",
       "      <th>Regional_Desc</th>\n",
       "    </tr>\n",
       "  </thead>\n",
       "  <tbody>\n",
       "    <tr>\n",
       "      <th>0</th>\n",
       "      <td>1</td>\n",
       "      <td>REGIONAL ANTIOQUIA</td>\n",
       "    </tr>\n",
       "    <tr>\n",
       "      <th>1</th>\n",
       "      <td>2</td>\n",
       "      <td>REGIONAL CENTRO</td>\n",
       "    </tr>\n",
       "    <tr>\n",
       "      <th>2</th>\n",
       "      <td>3</td>\n",
       "      <td>REGIONAL NORTE</td>\n",
       "    </tr>\n",
       "    <tr>\n",
       "      <th>3</th>\n",
       "      <td>4</td>\n",
       "      <td>REGIONAL OCCIDENTE</td>\n",
       "    </tr>\n",
       "    <tr>\n",
       "      <th>4</th>\n",
       "      <td>5</td>\n",
       "      <td>REGIONAL EJE CAFETERO</td>\n",
       "    </tr>\n",
       "    <tr>\n",
       "      <th>5</th>\n",
       "      <td>6</td>\n",
       "      <td>SIN INFORMACION</td>\n",
       "    </tr>\n",
       "  </tbody>\n",
       "</table>\n",
       "</div>"
      ],
      "text/plain": [
       "   Regional_id          Regional_Desc\n",
       "0            1     REGIONAL ANTIOQUIA\n",
       "1            2        REGIONAL CENTRO\n",
       "2            3         REGIONAL NORTE\n",
       "3            4     REGIONAL OCCIDENTE\n",
       "4            5  REGIONAL EJE CAFETERO\n",
       "5            6        SIN INFORMACION"
      ]
     },
     "execution_count": 17,
     "metadata": {},
     "output_type": "execute_result"
    }
   ],
   "source": [
    "regional['Regional_Desc'] = regional['Regional_Desc'].apply(lambda x: unidecode(x) if isinstance(x, str) else x)\n",
    "#Se elimina tildes\n",
    "regional['Regional_Desc'] = regional['Regional_Desc'].str.upper() #Se cambia todos los datos a mayúscula\n",
    "regional.head(6)"
   ]
  },
  {
   "cell_type": "code",
   "execution_count": 18,
   "metadata": {},
   "outputs": [],
   "source": [
    "# Reemplazar los valores en Regional_id\n",
    "regional[\"Regional_id\"] = regional[\"Regional_id\"].replace([6], -1)"
   ]
  },
  {
   "cell_type": "code",
   "execution_count": 19,
   "metadata": {},
   "outputs": [
    {
     "data": {
      "text/plain": [
       "['genero.pkl']"
      ]
     },
     "execution_count": 19,
     "metadata": {},
     "output_type": "execute_result"
    }
   ],
   "source": [
    "\n",
    "joblib.dump(regional,'regional.pkl')\n",
    "joblib.dump(diagnosticos,'diagnosticos.pkl')\n",
    "joblib.dump(genero,'genero.pkl')"
   ]
  }
 ],
 "metadata": {
  "kernelspec": {
   "display_name": "base",
   "language": "python",
   "name": "python3"
  },
  "language_info": {
   "codemirror_mode": {
    "name": "ipython",
    "version": 3
   },
   "file_extension": ".py",
   "mimetype": "text/x-python",
   "name": "python",
   "nbconvert_exporter": "python",
   "pygments_lexer": "ipython3",
   "version": "3.9.13"
  },
  "orig_nbformat": 4
 },
 "nbformat": 4,
 "nbformat_minor": 2
}
