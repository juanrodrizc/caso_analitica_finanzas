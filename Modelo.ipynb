{
 "cells": [
  {
   "cell_type": "code",
   "execution_count": 3,
   "metadata": {},
   "outputs": [],
   "source": [
    "import pandas as pd\n",
    "import joblib"
   ]
  },
  {
   "cell_type": "code",
   "execution_count": 4,
   "metadata": {},
   "outputs": [],
   "source": [
    "tabla_final=joblib.load('tabla_final.pkl')"
   ]
  },
  {
   "cell_type": "code",
   "execution_count": null,
   "metadata": {},
   "outputs": [],
   "source": [
    "\n",
    "#Feature Selection\n",
    "#Ruta de la imágen\n",
    "\"\"\"\n",
    "import pandas as pd\n",
    "import numpy as np\n",
    "\n",
    "# cargar los datos\n",
    "data = pd.read_csv('datos.csv')\n",
    "\n",
    "# calcular la matriz de correlación\n",
    "corr_matrix = data.corr().abs()\n",
    "\n",
    "# seleccionar las características altamente correlacionadas (umbral de correlación = 0.8)\n",
    "high_corr_features = np.where(corr_matrix > 0.8)\n",
    "\n",
    "# eliminar las características duplicadas\n",
    "unique_features = []\n",
    "for i in range(len(high_corr_features[0])):\n",
    "  if high_corr_features[0][i] != high_corr_features[1][i]:\n",
    "    if high_corr_features[0][i] not in unique_features:\n",
    "        unique_features.append(high_corr_features[0][i])\n",
    "\n",
    "# seleccionar las características únicas\n",
    "selected_features = data.unique_features\n",
    "\"\"\""
   ]
  }
 ],
 "metadata": {
  "kernelspec": {
   "display_name": "base",
   "language": "python",
   "name": "python3"
  },
  "language_info": {
   "codemirror_mode": {
    "name": "ipython",
    "version": 3
   },
   "file_extension": ".py",
   "mimetype": "text/x-python",
   "name": "python",
   "nbconvert_exporter": "python",
   "pygments_lexer": "ipython3",
   "version": "3.9.7"
  },
  "orig_nbformat": 4
 },
 "nbformat": 4,
 "nbformat_minor": 2
}
