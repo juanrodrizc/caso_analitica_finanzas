{
 "cells": [
  {
   "cell_type": "code",
   "execution_count": 17,
   "metadata": {},
   "outputs": [],
   "source": [
    "import pandas as pd\n",
    "import joblib\n",
    "import numpy as np\n",
    "from sklearn.feature_selection import SelectKBest,f_regression"
   ]
  },
  {
   "cell_type": "code",
   "execution_count": 18,
   "metadata": {},
   "outputs": [],
   "source": [
    "# cargar los datos\n",
    "tabla_final=joblib.load('tabla_final.pkl')"
   ]
  },
  {
   "attachments": {},
   "cell_type": "markdown",
   "metadata": {},
   "source": [
    "##Método Univariate Selection (KBest)"
   ]
  },
  {
   "cell_type": "code",
   "execution_count": 19,
   "metadata": {},
   "outputs": [],
   "source": [
    "arreglo = tabla_final.values #Se toman los valores del dataframe en formato numpy \n",
    "X = tabla_final[tabla_final.columns[tabla_final.columns!='Precio Unit']].values\n",
    "y = tabla_final['Precio Unit'].values # Campo de interés "
   ]
  },
  {
   "cell_type": "code",
   "execution_count": 20,
   "metadata": {},
   "outputs": [],
   "source": [
    "#crear un modelo de selección\n",
    "\n",
    "est_prueba = SelectKBest(score_func=f_regression, k = 3)\n",
    "est_ajustado = est_prueba.fit(X,y)\n",
    "\n",
    "#Muestro el desempeño de los features basado en el valor F\n",
    "np.set_printoptions(precision = 3,suppress = True)\n",
    "#print(est_ajustado.scores_)\n",
    "features = est_ajustado.transform(X)\n",
    "#print(features)"
   ]
  },
  {
   "cell_type": "code",
   "execution_count": 21,
   "metadata": {},
   "outputs": [],
   "source": [
    "temp2 = np.array(est_ajustado.scores_) #Genero un temporal con los puntajes de los estimadores ajustados"
   ]
  },
  {
   "cell_type": "code",
   "execution_count": 22,
   "metadata": {},
   "outputs": [
    {
     "data": {
      "text/html": [
       "<div>\n",
       "<style scoped>\n",
       "    .dataframe tbody tr th:only-of-type {\n",
       "        vertical-align: middle;\n",
       "    }\n",
       "\n",
       "    .dataframe tbody tr th {\n",
       "        vertical-align: top;\n",
       "    }\n",
       "\n",
       "    .dataframe thead th {\n",
       "        text-align: right;\n",
       "    }\n",
       "</style>\n",
       "<table border=\"1\" class=\"dataframe\">\n",
       "  <thead>\n",
       "    <tr style=\"text-align: right;\">\n",
       "      <th></th>\n",
       "      <th>Var</th>\n",
       "      <th>KBest</th>\n",
       "    </tr>\n",
       "  </thead>\n",
       "  <tbody>\n",
       "    <tr>\n",
       "      <th>188</th>\n",
       "      <td>ENFERMEDAD TOXICA DEL HIGADO CON CIRROSIS Y FI...</td>\n",
       "      <td>10186.256138</td>\n",
       "    </tr>\n",
       "    <tr>\n",
       "      <th>288</th>\n",
       "      <td>LINFOMA NO HODGKIN, NO ESPECIFICADO</td>\n",
       "      <td>1031.618645</td>\n",
       "    </tr>\n",
       "    <tr>\n",
       "      <th>46</th>\n",
       "      <td>ANEURISMA DE LA AORTA ABDOMINAL, SIN MENCION D...</td>\n",
       "      <td>717.471187</td>\n",
       "    </tr>\n",
       "    <tr>\n",
       "      <th>262</th>\n",
       "      <td>ICTERICIA NO ESPECIFICADA</td>\n",
       "      <td>649.844608</td>\n",
       "    </tr>\n",
       "    <tr>\n",
       "      <th>361</th>\n",
       "      <td>OTROS ESTADOS POSTQUIRURGICOS ESPECIFICADOS</td>\n",
       "      <td>409.384455</td>\n",
       "    </tr>\n",
       "    <tr>\n",
       "      <th>...</th>\n",
       "      <td>...</td>\n",
       "      <td>...</td>\n",
       "    </tr>\n",
       "    <tr>\n",
       "      <th>31</th>\n",
       "      <td>TRATAMIENTO POR ACCIDENTE</td>\n",
       "      <td>0.000001</td>\n",
       "    </tr>\n",
       "    <tr>\n",
       "      <th>9</th>\n",
       "      <td>31-40</td>\n",
       "      <td>0.000000</td>\n",
       "    </tr>\n",
       "    <tr>\n",
       "      <th>8</th>\n",
       "      <td>21-30</td>\n",
       "      <td>0.000000</td>\n",
       "    </tr>\n",
       "    <tr>\n",
       "      <th>7</th>\n",
       "      <td>11-20</td>\n",
       "      <td>0.000000</td>\n",
       "    </tr>\n",
       "    <tr>\n",
       "      <th>6</th>\n",
       "      <td>0-10</td>\n",
       "      <td>0.000000</td>\n",
       "    </tr>\n",
       "  </tbody>\n",
       "</table>\n",
       "<p>520 rows × 2 columns</p>\n",
       "</div>"
      ],
      "text/plain": [
       "                                                   Var         KBest\n",
       "188  ENFERMEDAD TOXICA DEL HIGADO CON CIRROSIS Y FI...  10186.256138\n",
       "288                LINFOMA NO HODGKIN, NO ESPECIFICADO   1031.618645\n",
       "46   ANEURISMA DE LA AORTA ABDOMINAL, SIN MENCION D...    717.471187\n",
       "262                          ICTERICIA NO ESPECIFICADA    649.844608\n",
       "361        OTROS ESTADOS POSTQUIRURGICOS ESPECIFICADOS    409.384455\n",
       "..                                                 ...           ...\n",
       "31                           TRATAMIENTO POR ACCIDENTE      0.000001\n",
       "9                                                31-40      0.000000\n",
       "8                                                21-30      0.000000\n",
       "7                                                11-20      0.000000\n",
       "6                                                 0-10      0.000000\n",
       "\n",
       "[520 rows x 2 columns]"
      ]
     },
     "execution_count": 22,
     "metadata": {},
     "output_type": "execute_result"
    }
   ],
   "source": [
    "tabla_feactures = tabla_final.copy()  #Se Muestra el puntaje K-Best asociado a cada variable en orden descendente para analizar las variables más representativas del modelo\n",
    "tabla_feactures.drop(columns = 'Precio Unit', inplace = True)\n",
    "FS = pd.DataFrame({'Var':tabla_feactures.columns,'KBest':temp2})\n",
    "FS.sort_values(by = 'KBest', ascending = False)"
   ]
  },
  {
   "cell_type": "code",
   "execution_count": 24,
   "metadata": {},
   "outputs": [
    {
     "data": {
      "text/plain": [
       "520"
      ]
     },
     "execution_count": 24,
     "metadata": {},
     "output_type": "execute_result"
    }
   ],
   "source": [
    "len(temp2)"
   ]
  }
 ],
 "metadata": {
  "kernelspec": {
   "display_name": "base",
   "language": "python",
   "name": "python3"
  },
  "language_info": {
   "codemirror_mode": {
    "name": "ipython",
    "version": 3
   },
   "file_extension": ".py",
   "mimetype": "text/x-python",
   "name": "python",
   "nbconvert_exporter": "python",
   "pygments_lexer": "ipython3",
   "version": "3.9.7"
  },
  "orig_nbformat": 4
 },
 "nbformat": 4,
 "nbformat_minor": 2
}
