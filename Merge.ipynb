{
 "cells": [
  {
   "cell_type": "code",
   "execution_count": 75,
   "metadata": {},
   "outputs": [],
   "source": [
    "import joblib\n",
    "import Funciones as fn\n",
    "import pandas as pd"
   ]
  },
  {
   "cell_type": "code",
   "execution_count": 76,
   "metadata": {},
   "outputs": [],
   "source": [
    "utilizaciones=joblib.load('utilizaciones.pkl')\n",
    "reclamaciones=joblib.load('reclamaciones.pkl') \n",
    "regional=joblib.load('regional.pkl')\n",
    "genero=joblib.load('genero.pkl' )\n",
    "sociodemograficas=joblib.load('sociodemograficas.pkl' )\n",
    "diagnosticos=joblib.load('diagnosticos')"
   ]
  },
  {
   "cell_type": "code",
   "execution_count": 77,
   "metadata": {},
   "outputs": [],
   "source": [
    "#Se debe realizar merge de regional_codigo con reclamación id\n",
    "#Se debe hacer merge de utilizaciones con diagnosticos\n",
    "temp=pd.merge(utilizaciones, diagnosticos, on='Diagnostico_Codigo', how=\"left\")"
   ]
  },
  {
   "cell_type": "code",
   "execution_count": 78,
   "metadata": {},
   "outputs": [
    {
     "data": {
      "text/plain": [
       "(395853, 7)"
      ]
     },
     "execution_count": 78,
     "metadata": {},
     "output_type": "execute_result"
    }
   ],
   "source": [
    "utilizaciones.shape"
   ]
  },
  {
   "cell_type": "code",
   "execution_count": 79,
   "metadata": {},
   "outputs": [
    {
     "data": {
      "text/plain": [
       "((395853, 8),\n",
       " Index(['Fecha_Reclamacion', 'Afiliado_Id', 'Reclamacion_codigo',\n",
       "        'Diagnostico_Codigo', 'Cantidad', 'Precio', 'Precio Unit',\n",
       "        'Diagnostico_Desc'],\n",
       "       dtype='object'),\n",
       " Fecha_Reclamacion     0\n",
       " Afiliado_Id           0\n",
       " Reclamacion_codigo    0\n",
       " Diagnostico_Codigo    0\n",
       " Cantidad              0\n",
       " Precio                0\n",
       " Precio Unit           0\n",
       " Diagnostico_Desc      0\n",
       " dtype: int64)"
      ]
     },
     "execution_count": 79,
     "metadata": {},
     "output_type": "execute_result"
    }
   ],
   "source": [
    "fn.comprobar(temp) #Se comprueba que se haya aumentado una columns, las columnas con las que quedó, y que no hayan datos nulos\n"
   ]
  },
  {
   "cell_type": "code",
   "execution_count": 80,
   "metadata": {},
   "outputs": [
    {
     "data": {
      "text/plain": [
       "-1      343254\n",
       "Z108      6773\n",
       "Z017      6470\n",
       "E039      2441\n",
       "E139      1086\n",
       "         ...  \n",
       "F918         1\n",
       "I688         1\n",
       "S336         1\n",
       "M680         1\n",
       "M619         1\n",
       "Name: Diagnostico_Codigo, Length: 2722, dtype: int64"
      ]
     },
     "execution_count": 80,
     "metadata": {},
     "output_type": "execute_result"
    }
   ],
   "source": [
    "temp['Diagnostico_Codigo'].value_counts()\n"
   ]
  },
  {
   "cell_type": "code",
   "execution_count": 81,
   "metadata": {},
   "outputs": [],
   "source": [
    "reclamaciones['Reclamacion_Id']=reclamaciones['Reclamacion_Id'].astype('str')\n"
   ]
  },
  {
   "cell_type": "code",
   "execution_count": 82,
   "metadata": {},
   "outputs": [],
   "source": [
    "reclamaciones=reclamaciones.rename(columns={'Reclamacion_Id':'Reclamacion_codigo'})"
   ]
  },
  {
   "cell_type": "code",
   "execution_count": 83,
   "metadata": {},
   "outputs": [],
   "source": [
    "temp=pd.merge(temp, reclamaciones, how=\"left\", on='Reclamacion_codigo') "
   ]
  },
  {
   "cell_type": "code",
   "execution_count": 84,
   "metadata": {},
   "outputs": [
    {
     "data": {
      "text/plain": [
       "((395853, 9),\n",
       " Index(['Fecha_Reclamacion', 'Afiliado_Id', 'Reclamacion_codigo',\n",
       "        'Diagnostico_Codigo', 'Cantidad', 'Precio', 'Precio Unit',\n",
       "        'Diagnostico_Desc', 'Reclamacion_Desc'],\n",
       "       dtype='object'),\n",
       " Fecha_Reclamacion         0\n",
       " Afiliado_Id               0\n",
       " Reclamacion_codigo        0\n",
       " Diagnostico_Codigo        0\n",
       " Cantidad                  0\n",
       " Precio                    0\n",
       " Precio Unit               0\n",
       " Diagnostico_Desc          0\n",
       " Reclamacion_Desc      74960\n",
       " dtype: int64)"
      ]
     },
     "execution_count": 84,
     "metadata": {},
     "output_type": "execute_result"
    }
   ],
   "source": [
    "#Se unen a lo que se refieren el id de las reclamaciones \n",
    "fn.comprobar(temp)"
   ]
  },
  {
   "cell_type": "code",
   "execution_count": 85,
   "metadata": {},
   "outputs": [
    {
     "data": {
      "text/plain": [
       "array(['ODONTOLOGIA', 'FISIOTERAPIA ILIMITADA', nan, 'PAMD',\n",
       "       'DIAGNOSTICO MEDICO', 'FUNERARIOS', 'TRATAMIENTO POR ENFERMEDAD',\n",
       "       'TRATAMIENTO POR ACCIDENTE', 'TRATAMIENTO POR CANCER',\n",
       "       'ATENCION POR EMBARAZO', 'CONSULTA DE URGENCIAS',\n",
       "       'ATENCION-TRATAMIENTO SALUD MENTAL', 'CONCILIACION', 'INYECCIÓN',\n",
       "       'TRASLADO EN AMBULANCIA', 'COBERTURA PROGRAMA PALIATIVOS'],\n",
       "      dtype=object)"
      ]
     },
     "execution_count": 85,
     "metadata": {},
     "output_type": "execute_result"
    }
   ],
   "source": [
    "temp['Reclamacion_Desc'].unique() #Los nulos se cambiaran como sin reclamación"
   ]
  },
  {
   "cell_type": "code",
   "execution_count": 86,
   "metadata": {},
   "outputs": [],
   "source": [
    "temp['Reclamacion_Desc']=temp['Reclamacion_Desc'].fillna('Sin Registo')"
   ]
  },
  {
   "cell_type": "code",
   "execution_count": 87,
   "metadata": {},
   "outputs": [
    {
     "data": {
      "text/plain": [
       "((395853, 9),\n",
       " Index(['Fecha_Reclamacion', 'Afiliado_Id', 'Reclamacion_codigo',\n",
       "        'Diagnostico_Codigo', 'Cantidad', 'Precio', 'Precio Unit',\n",
       "        'Diagnostico_Desc', 'Reclamacion_Desc'],\n",
       "       dtype='object'),\n",
       " Fecha_Reclamacion     0\n",
       " Afiliado_Id           0\n",
       " Reclamacion_codigo    0\n",
       " Diagnostico_Codigo    0\n",
       " Cantidad              0\n",
       " Precio                0\n",
       " Precio Unit           0\n",
       " Diagnostico_Desc      0\n",
       " Reclamacion_Desc      0\n",
       " dtype: int64)"
      ]
     },
     "execution_count": 87,
     "metadata": {},
     "output_type": "execute_result"
    }
   ],
   "source": [
    "fn.comprobar(temp) #Ya no existen nulos"
   ]
  },
  {
   "cell_type": "code",
   "execution_count": 88,
   "metadata": {},
   "outputs": [],
   "source": [
    "temp=pd.merge(temp, sociodemograficas, how=\"left\", on='Afiliado_Id') #Se une la tabla sociodemografica con las variables Sexo:codigo, FechaNacimiento, Regional_Codigo, Cancer, EPOC, Diabetes, Hipertension, ENF_Cardiovasular, EDAD, Rango de Edad."
   ]
  },
  {
   "cell_type": "code",
   "execution_count": 89,
   "metadata": {},
   "outputs": [
    {
     "data": {
      "text/plain": [
       "((395853, 19),\n",
       " Index(['Fecha_Reclamacion', 'Afiliado_Id', 'Reclamacion_codigo',\n",
       "        'Diagnostico_Codigo', 'Cantidad', 'Precio', 'Precio Unit',\n",
       "        'Diagnostico_Desc', 'Reclamacion_Desc', 'Sexo_codigo',\n",
       "        'FechaNacimiento', 'Regional_codigo', 'CANCER', 'EPOC', 'DIABETES',\n",
       "        'HIPERTENSION', 'ENF_CARDIOVASCULAR', 'Edad', 'Rango de edad'],\n",
       "       dtype='object'),\n",
       " Fecha_Reclamacion          0\n",
       " Afiliado_Id                0\n",
       " Reclamacion_codigo         0\n",
       " Diagnostico_Codigo         0\n",
       " Cantidad                   0\n",
       " Precio                     0\n",
       " Precio Unit                0\n",
       " Diagnostico_Desc           0\n",
       " Reclamacion_Desc           0\n",
       " Sexo_codigo           173665\n",
       " FechaNacimiento       173665\n",
       " Regional_codigo       173665\n",
       " CANCER                173665\n",
       " EPOC                  173665\n",
       " DIABETES              173665\n",
       " HIPERTENSION          173665\n",
       " ENF_CARDIOVASCULAR    173665\n",
       " Edad                  173665\n",
       " Rango de edad         173666\n",
       " dtype: int64)"
      ]
     },
     "execution_count": 89,
     "metadata": {},
     "output_type": "execute_result"
    }
   ],
   "source": [
    "fn.comprobar(temp) #Los datos nulos generados son porque no se encuentran registrados con ese tipo de datos pero si han presentado reclamaciones"
   ]
  },
  {
   "cell_type": "code",
   "execution_count": 90,
   "metadata": {},
   "outputs": [],
   "source": [
    "temp = temp[temp['DIABETES']==1] #Se filtra a solamente los datos con diabetes positiva"
   ]
  },
  {
   "cell_type": "code",
   "execution_count": 91,
   "metadata": {},
   "outputs": [],
   "source": [
    "del (temp['DIABETES']) #Ya se sabe que todos tienen diabetes"
   ]
  },
  {
   "cell_type": "code",
   "execution_count": 92,
   "metadata": {},
   "outputs": [
    {
     "data": {
      "text/plain": [
       "((14475, 18),\n",
       " Index(['Fecha_Reclamacion', 'Afiliado_Id', 'Reclamacion_codigo',\n",
       "        'Diagnostico_Codigo', 'Cantidad', 'Precio', 'Precio Unit',\n",
       "        'Diagnostico_Desc', 'Reclamacion_Desc', 'Sexo_codigo',\n",
       "        'FechaNacimiento', 'Regional_codigo', 'CANCER', 'EPOC', 'HIPERTENSION',\n",
       "        'ENF_CARDIOVASCULAR', 'Edad', 'Rango de edad'],\n",
       "       dtype='object'),\n",
       " Fecha_Reclamacion     0\n",
       " Afiliado_Id           0\n",
       " Reclamacion_codigo    0\n",
       " Diagnostico_Codigo    0\n",
       " Cantidad              0\n",
       " Precio                0\n",
       " Precio Unit           0\n",
       " Diagnostico_Desc      0\n",
       " Reclamacion_Desc      0\n",
       " Sexo_codigo           0\n",
       " FechaNacimiento       0\n",
       " Regional_codigo       0\n",
       " CANCER                0\n",
       " EPOC                  0\n",
       " HIPERTENSION          0\n",
       " ENF_CARDIOVASCULAR    0\n",
       " Edad                  0\n",
       " Rango de edad         0\n",
       " dtype: int64)"
      ]
     },
     "execution_count": 92,
     "metadata": {},
     "output_type": "execute_result"
    }
   ],
   "source": [
    "fn.comprobar(temp)"
   ]
  },
  {
   "cell_type": "code",
   "execution_count": 93,
   "metadata": {},
   "outputs": [
    {
     "data": {
      "text/html": [
       "<div>\n",
       "<style scoped>\n",
       "    .dataframe tbody tr th:only-of-type {\n",
       "        vertical-align: middle;\n",
       "    }\n",
       "\n",
       "    .dataframe tbody tr th {\n",
       "        vertical-align: top;\n",
       "    }\n",
       "\n",
       "    .dataframe thead th {\n",
       "        text-align: right;\n",
       "    }\n",
       "</style>\n",
       "<table border=\"1\" class=\"dataframe\">\n",
       "  <thead>\n",
       "    <tr style=\"text-align: right;\">\n",
       "      <th></th>\n",
       "      <th>Fecha_Reclamacion</th>\n",
       "      <th>Afiliado_Id</th>\n",
       "      <th>Reclamacion_codigo</th>\n",
       "      <th>Diagnostico_Codigo</th>\n",
       "      <th>Cantidad</th>\n",
       "      <th>Precio</th>\n",
       "      <th>Precio Unit</th>\n",
       "      <th>Diagnostico_Desc</th>\n",
       "      <th>Reclamacion_Desc</th>\n",
       "      <th>Sexo_codigo</th>\n",
       "      <th>FechaNacimiento</th>\n",
       "      <th>Regional_codigo</th>\n",
       "      <th>CANCER</th>\n",
       "      <th>EPOC</th>\n",
       "      <th>HIPERTENSION</th>\n",
       "      <th>ENF_CARDIOVASCULAR</th>\n",
       "      <th>Edad</th>\n",
       "      <th>Rango de edad</th>\n",
       "    </tr>\n",
       "  </thead>\n",
       "  <tbody>\n",
       "  </tbody>\n",
       "</table>\n",
       "</div>"
      ],
      "text/plain": [
       "Empty DataFrame\n",
       "Columns: [Fecha_Reclamacion, Afiliado_Id, Reclamacion_codigo, Diagnostico_Codigo, Cantidad, Precio, Precio Unit, Diagnostico_Desc, Reclamacion_Desc, Sexo_codigo, FechaNacimiento, Regional_codigo, CANCER, EPOC, HIPERTENSION, ENF_CARDIOVASCULAR, Edad, Rango de edad]\n",
       "Index: []"
      ]
     },
     "execution_count": 93,
     "metadata": {},
     "output_type": "execute_result"
    }
   ],
   "source": [
    "temp[temp['FechaNacimiento']>temp['Fecha_Reclamacion']] #Todas las reclamaciones se realizan en fechas validas"
   ]
  },
  {
   "cell_type": "code",
   "execution_count": 94,
   "metadata": {},
   "outputs": [],
   "source": [
    "del(temp['Reclamacion_codigo']) #Como ya se tiene la descripción del codigo, no se necesitan los números de los código\n",
    "del(temp['Diagnostico_Codigo'])\n",
    "del(temp['Edad'])#Como ya se tienen los rangos de edad, no se necesitan las edades\n",
    "del(temp['Fecha_Reclamacion'])\n",
    "del(temp['FechaNacimiento'])\n"
   ]
  },
  {
   "cell_type": "code",
   "execution_count": 95,
   "metadata": {},
   "outputs": [
    {
     "data": {
      "text/plain": [
       "Afiliado_Id              int64\n",
       "Cantidad                 int32\n",
       "Precio                 float64\n",
       "Precio Unit            float64\n",
       "Diagnostico_Desc        object\n",
       "Reclamacion_Desc        object\n",
       "Sexo_codigo             object\n",
       "Regional_codigo         object\n",
       "CANCER                 float64\n",
       "EPOC                   float64\n",
       "HIPERTENSION           float64\n",
       "ENF_CARDIOVASCULAR     float64\n",
       "Rango de edad         category\n",
       "dtype: object"
      ]
     },
     "execution_count": 95,
     "metadata": {},
     "output_type": "execute_result"
    }
   ],
   "source": [
    "temp.dtypes"
   ]
  },
  {
   "cell_type": "code",
   "execution_count": 98,
   "metadata": {},
   "outputs": [
    {
     "name": "stderr",
     "output_type": "stream",
     "text": [
      "C:\\Users\\alejandrs\\AppData\\Local\\Temp\\ipykernel_3068\\248496077.py:2: FutureWarning: In a future version, the Index constructor will not infer numeric dtypes when passed object-dtype sequences (matching Series behavior)\n",
      "  one_hot2=pd.get_dummies(temp['Regional_codigo'])\n"
     ]
    }
   ],
   "source": [
    "\n",
    "one_hot1=pd.get_dummies(temp['Rango de edad'])\n",
    "one_hot2=pd.get_dummies(temp['Regional_codigo'])\n",
    "one_hot3=pd.get_dummies(temp['Reclamacion_Desc'])\n",
    "one_hot4=pd.get_dummies(temp['Sexo_codigo'])\n",
    "one_hot5=pd.get_dummies(temp['Diagnostico_Desc'])"
   ]
  },
  {
   "cell_type": "code",
   "execution_count": 99,
   "metadata": {},
   "outputs": [],
   "source": [
    "temp=pd.concat([temp,one_hot1],axis=1)\n",
    "temp=pd.concat([temp,one_hot2],axis=1)\n",
    "temp=pd.concat([temp,one_hot3],axis=1)\n",
    "temp=pd.concat([temp,one_hot4],axis=1)\n",
    "temp=pd.concat([temp,one_hot5],axis=1)"
   ]
  },
  {
   "cell_type": "code",
   "execution_count": 104,
   "metadata": {},
   "outputs": [
    {
     "data": {
      "text/plain": [
       "Index([                                                                                      'Afiliado_Id',\n",
       "                                                                                                'Cantidad',\n",
       "                                                                                                  'Precio',\n",
       "                                                                                             'Precio Unit',\n",
       "                                                                                        'Diagnostico_Desc',\n",
       "                                                                                        'Reclamacion_Desc',\n",
       "                                                                                             'Sexo_codigo',\n",
       "                                                                                         'Regional_codigo',\n",
       "                                                                                                  'CANCER',\n",
       "                                                                                                    'EPOC',\n",
       "       ...\n",
       "                                                     'TUMOR MALIGNO DEL RINON, EXCEPTO DE LA PELVIS RENAL',\n",
       "                                             'TUMOR MALIGNO SECUNDARIO DEL PERITONEO Y DEL RETROPERITONEO',\n",
       "                                                'ULCERA DE MIEMBRO INFERIOR, NO CLASIFICADA EN OTRA PARTE',\n",
       "       'ULCERA PEPTICA, DE SITIO NO ESPECIFICADO, CRONICA O NO ESPECIFICADA, CON HEMORRAGIA Y PERFORACION',\n",
       "                    'ULCERA PEPTICA, NO ESPECIFICADA COMO AGUDA NI CRONICA, SIN HEMORRAGIA NI PERFORACION',\n",
       "                                                                                           'UNA ENCARNADA',\n",
       "                                                                      'VAGINITIS ATROFICA POSTMENOPAUSICA',\n",
       "                                    'VENAS VARICOSAS DE LOS MIEMBROS INFERIORES SIN ULCERA NI INFLAMACION',\n",
       "                                                                                        'VERRUGAS VIRICAS',\n",
       "                                                                               'VERTIGO DE ORIGEN CENTRAL'],\n",
       "      dtype='object', length=527)"
      ]
     },
     "execution_count": 104,
     "metadata": {},
     "output_type": "execute_result"
    }
   ],
   "source": [
    "temp.columns"
   ]
  },
  {
   "cell_type": "code",
   "execution_count": 105,
   "metadata": {},
   "outputs": [],
   "source": [
    "\n",
    "del(temp['Rango de edad'])\n",
    "del(temp['Regional_codigo'])\n",
    "del(temp['Reclamacion_Desc'])\n",
    "del(temp['Sexo_codigo'])\n",
    "del(temp['Diagnostico_Desc'])"
   ]
  },
  {
   "attachments": {},
   "cell_type": "markdown",
   "metadata": {},
   "source": [
    "##Descargas"
   ]
  },
  {
   "cell_type": "code",
   "execution_count": 106,
   "metadata": {},
   "outputs": [
    {
     "data": {
      "text/plain": [
       "['tabla_final.pkl']"
      ]
     },
     "execution_count": 106,
     "metadata": {},
     "output_type": "execute_result"
    }
   ],
   "source": [
    "joblib.dump(temp,'tabla_final.pkl')"
   ]
  }
 ],
 "metadata": {
  "kernelspec": {
   "display_name": "base",
   "language": "python",
   "name": "python3"
  },
  "language_info": {
   "codemirror_mode": {
    "name": "ipython",
    "version": 3
   },
   "file_extension": ".py",
   "mimetype": "text/x-python",
   "name": "python",
   "nbconvert_exporter": "python",
   "pygments_lexer": "ipython3",
   "version": "3.9.7"
  },
  "orig_nbformat": 4
 },
 "nbformat": 4,
 "nbformat_minor": 2
}
