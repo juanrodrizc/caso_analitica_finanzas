{
 "cells": [
  {
   "cell_type": "markdown",
   "id": "cf8d2c75",
   "metadata": {},
   "source": [
    "# **Exploración**"
   ]
  },
  {
   "cell_type": "code",
   "execution_count": 2,
   "id": "b838d6df",
   "metadata": {},
   "outputs": [],
   "source": [
    "import sqlite3 as sql\n",
    "import pandas as pd\n",
    "import matplotlib.pyplot as plt\n",
    "import seaborn as sns\n",
    "from PIL import Image\n",
    "import numpy as np\n",
    "import datetime\n",
    "import plotly.express as px"
   ]
  },
  {
   "cell_type": "markdown",
   "id": "93c9f5da",
   "metadata": {},
   "source": [
    "### **Conectar BD**"
   ]
  },
  {
   "cell_type": "code",
   "execution_count": 3,
   "id": "06e256ca",
   "metadata": {},
   "outputs": [],
   "source": [
    "###### para ejecutar sql y conectarse a bd #####\n",
    "conn=sql.connect('BD_insurance2019dataset')\n",
    "cur=conn.cursor()"
   ]
  },
  {
   "cell_type": "code",
   "execution_count": 4,
   "id": "5e5e267c",
   "metadata": {},
   "outputs": [
    {
     "data": {
      "text/html": [
       "<div>\n",
       "<style scoped>\n",
       "    .dataframe tbody tr th:only-of-type {\n",
       "        vertical-align: middle;\n",
       "    }\n",
       "\n",
       "    .dataframe tbody tr th {\n",
       "        vertical-align: top;\n",
       "    }\n",
       "\n",
       "    .dataframe thead th {\n",
       "        text-align: right;\n",
       "    }\n",
       "</style>\n",
       "<table border=\"1\" class=\"dataframe\">\n",
       "  <thead>\n",
       "    <tr style=\"text-align: right;\">\n",
       "      <th></th>\n",
       "      <th>type</th>\n",
       "      <th>name</th>\n",
       "      <th>tbl_name</th>\n",
       "      <th>rootpage</th>\n",
       "      <th>sql</th>\n",
       "    </tr>\n",
       "  </thead>\n",
       "  <tbody>\n",
       "    <tr>\n",
       "      <th>0</th>\n",
       "      <td>table</td>\n",
       "      <td>reclamaciones</td>\n",
       "      <td>reclamaciones</td>\n",
       "      <td>2</td>\n",
       "      <td>CREATE TABLE reclamaciones (Reclamacion_Id INT...</td>\n",
       "    </tr>\n",
       "    <tr>\n",
       "      <th>1</th>\n",
       "      <td>table</td>\n",
       "      <td>diagnosticos</td>\n",
       "      <td>diagnosticos</td>\n",
       "      <td>3</td>\n",
       "      <td>CREATE TABLE diagnosticos (Diagnostico_Codigo ...</td>\n",
       "    </tr>\n",
       "    <tr>\n",
       "      <th>2</th>\n",
       "      <td>table</td>\n",
       "      <td>regional</td>\n",
       "      <td>regional</td>\n",
       "      <td>42</td>\n",
       "      <td>CREATE TABLE regional (Regional_id INTEGER, Re...</td>\n",
       "    </tr>\n",
       "    <tr>\n",
       "      <th>3</th>\n",
       "      <td>table</td>\n",
       "      <td>genero</td>\n",
       "      <td>genero</td>\n",
       "      <td>43</td>\n",
       "      <td>CREATE TABLE genero (Sexo_Cd TEXT, Sexo_desc T...</td>\n",
       "    </tr>\n",
       "    <tr>\n",
       "      <th>4</th>\n",
       "      <td>table</td>\n",
       "      <td>sociodemograficas</td>\n",
       "      <td>sociodemograficas</td>\n",
       "      <td>44</td>\n",
       "      <td>CREATE TABLE sociodemograficas (Afiliado_Id IN...</td>\n",
       "    </tr>\n",
       "    <tr>\n",
       "      <th>5</th>\n",
       "      <td>table</td>\n",
       "      <td>utilizaciones</td>\n",
       "      <td>utilizaciones</td>\n",
       "      <td>1328</td>\n",
       "      <td>CREATE TABLE utilizaciones (Fecha_Reclamacion ...</td>\n",
       "    </tr>\n",
       "  </tbody>\n",
       "</table>\n",
       "</div>"
      ],
      "text/plain": [
       "    type               name           tbl_name  rootpage  \\\n",
       "0  table      reclamaciones      reclamaciones         2   \n",
       "1  table       diagnosticos       diagnosticos         3   \n",
       "2  table           regional           regional        42   \n",
       "3  table             genero             genero        43   \n",
       "4  table  sociodemograficas  sociodemograficas        44   \n",
       "5  table      utilizaciones      utilizaciones      1328   \n",
       "\n",
       "                                                 sql  \n",
       "0  CREATE TABLE reclamaciones (Reclamacion_Id INT...  \n",
       "1  CREATE TABLE diagnosticos (Diagnostico_Codigo ...  \n",
       "2  CREATE TABLE regional (Regional_id INTEGER, Re...  \n",
       "3  CREATE TABLE genero (Sexo_Cd TEXT, Sexo_desc T...  \n",
       "4  CREATE TABLE sociodemograficas (Afiliado_Id IN...  \n",
       "5  CREATE TABLE utilizaciones (Fecha_Reclamacion ...  "
      ]
     },
     "execution_count": 4,
     "metadata": {},
     "output_type": "execute_result"
    }
   ],
   "source": [
    "### para verificar las tablas que hay disponibles ###\n",
    "pd.read_sql_query(\"SELECT * FROM sqlite_master; \",conn)"
   ]
  },
  {
   "cell_type": "markdown",
   "id": "6dd58e68",
   "metadata": {},
   "source": [
    "**Cargar Tablas**"
   ]
  },
  {
   "cell_type": "code",
   "execution_count": 5,
   "id": "35985200",
   "metadata": {},
   "outputs": [],
   "source": [
    "utilizaciones = pd.read_sql(\"SELECT * FROM utilizaciones; \",conn)\n",
    "reclamaciones = pd.read_sql(\"SELECT * FROM reclamaciones; \",conn)\n",
    "regional = pd.read_sql(\"SELECT * FROM regional; \",conn)\n",
    "genero = pd.read_sql(\"SELECT * FROM genero; \",conn)\n",
    "sociodemograficas = pd.read_sql(\"SELECT * FROM sociodemograficas; \",conn)\n",
    "diagnosticos = pd.read_sql(\"SELECT * FROM diagnosticos; \",conn)"
   ]
  },
  {
   "cell_type": "markdown",
   "id": "804c292a",
   "metadata": {},
   "source": [
    "### **Identificar campos de cruce, verificar que estén en mismo formato y duplicados**"
   ]
  },
  {
   "cell_type": "markdown",
   "id": "bf34cebc",
   "metadata": {},
   "source": [
    "#### **Tabla reclamaciones**"
   ]
  },
  {
   "cell_type": "code",
   "execution_count": 6,
   "id": "21bff66c",
   "metadata": {},
   "outputs": [
    {
     "name": "stdout",
     "output_type": "stream",
     "text": [
      "<class 'pandas.core.frame.DataFrame'>\n",
      "RangeIndex: 35 entries, 0 to 34\n",
      "Data columns (total 2 columns):\n",
      " #   Column            Non-Null Count  Dtype \n",
      "---  ------            --------------  ----- \n",
      " 0   Reclamacion_Id    35 non-null     int64 \n",
      " 1   Reclamacion_Desc  35 non-null     object\n",
      "dtypes: int64(1), object(1)\n",
      "memory usage: 688.0+ bytes\n"
     ]
    },
    {
     "data": {
      "text/plain": [
       "0"
      ]
     },
     "execution_count": 6,
     "metadata": {},
     "output_type": "execute_result"
    }
   ],
   "source": [
    "reclamaciones.info() # Se cuenta con 2 campos, la reclamacion_id y la reclamacion_desc\n",
    "reclamaciones.duplicated().sum() #La tabla no tiene duplicados"
   ]
  },
  {
   "cell_type": "code",
   "execution_count": 7,
   "id": "038f0078",
   "metadata": {},
   "outputs": [
    {
     "data": {
      "text/html": [
       "<div>\n",
       "<style scoped>\n",
       "    .dataframe tbody tr th:only-of-type {\n",
       "        vertical-align: middle;\n",
       "    }\n",
       "\n",
       "    .dataframe tbody tr th {\n",
       "        vertical-align: top;\n",
       "    }\n",
       "\n",
       "    .dataframe thead th {\n",
       "        text-align: right;\n",
       "    }\n",
       "</style>\n",
       "<table border=\"1\" class=\"dataframe\">\n",
       "  <thead>\n",
       "    <tr style=\"text-align: right;\">\n",
       "      <th></th>\n",
       "      <th>Reclamacion_Id</th>\n",
       "      <th>Reclamacion_Desc</th>\n",
       "    </tr>\n",
       "  </thead>\n",
       "  <tbody>\n",
       "    <tr>\n",
       "      <th>0</th>\n",
       "      <td>1</td>\n",
       "      <td>ATENCION DEL PARTO</td>\n",
       "    </tr>\n",
       "    <tr>\n",
       "      <th>1</th>\n",
       "      <td>2</td>\n",
       "      <td>ATENCION INTEGRAL DE SALUD MENTAL</td>\n",
       "    </tr>\n",
       "    <tr>\n",
       "      <th>2</th>\n",
       "      <td>3</td>\n",
       "      <td>CIRUGIA AMBULATORIA POR ACCIDENTE</td>\n",
       "    </tr>\n",
       "    <tr>\n",
       "      <th>3</th>\n",
       "      <td>4</td>\n",
       "      <td>CIRUGIA AMBULATORIA POR ENFERMEDAD</td>\n",
       "    </tr>\n",
       "    <tr>\n",
       "      <th>4</th>\n",
       "      <td>5</td>\n",
       "      <td>CIRUGIA AMBULATORIA POR ENFERMEDAD CONGENITA</td>\n",
       "    </tr>\n",
       "  </tbody>\n",
       "</table>\n",
       "</div>"
      ],
      "text/plain": [
       "   Reclamacion_Id                              Reclamacion_Desc\n",
       "0               1                            ATENCION DEL PARTO\n",
       "1               2             ATENCION INTEGRAL DE SALUD MENTAL\n",
       "2               3             CIRUGIA AMBULATORIA POR ACCIDENTE\n",
       "3               4            CIRUGIA AMBULATORIA POR ENFERMEDAD\n",
       "4               5  CIRUGIA AMBULATORIA POR ENFERMEDAD CONGENITA"
      ]
     },
     "execution_count": 7,
     "metadata": {},
     "output_type": "execute_result"
    }
   ],
   "source": [
    "reclamaciones.head()  # Es una tabla descriptiva de los valores asociados en otras tablas"
   ]
  },
  {
   "cell_type": "code",
   "execution_count": 8,
   "id": "e903be4c",
   "metadata": {},
   "outputs": [
    {
     "data": {
      "text/plain": [
       "ATENCION DEL PARTO                                                 1\n",
       "TRATAMIENTO MEDICO HOSPITALARIO POR ENFERMEDAD                     1\n",
       "TRATAMIENTO AMBULATORIO POR CANCER                                 1\n",
       "TRATAMIENTO MEDICO AMBULATORIO POR ACCIDENTES                      1\n",
       "TRATAMIENTO MEDICO AMBULATORIO POR ENFERMEDAD EN URGENCIAS         1\n",
       "TRATAMIENTO MEDICO HOSPITALARIO POR ACCIDENTE                      1\n",
       "TRATAMIENTO MEDICO HOSPITALARIO POR CANCER Y COMPLICACIONES        1\n",
       "TRATAMIENTO MEDICO HOSPITALARIO POR COMPLICACIONES DEL EMBARAZO    1\n",
       "TRATAMIENTO MEDICO HOSPITALARIO SIQUIATRICO                        1\n",
       "Sin Informacion                                                    1\n",
       "TRATAMIENTO QUIRURGICO HOSPITALARIO POR ACCIDENTE                  1\n",
       "TRATAMIENTO QUIRURGICO HOSPITALARIO POR CANCER Y COMPLICACIONES    1\n",
       "TRATAMIENTO QUIRURGICO HOSPITALARIO POR ENFERMEDAD                 1\n",
       "TRATAMIENTO QUIRURGICO HOSPITALARIO POR ENFERMEDAD CONGENITA       1\n",
       "TRATAMIENTOS AMBULATORIOS ESPECIALES                               1\n",
       "TRATAMIENTOS ESPECIFICOS                                           1\n",
       "TRASLADO EN AMBULANCIA                                             1\n",
       "PAMD                                                               1\n",
       "ATENCION INTEGRAL DE SALUD MENTAL                                  1\n",
       "CONSULTA EXTERNA                                                   1\n",
       "CIRUGIA AMBULATORIA POR ACCIDENTE                                  1\n",
       "CIRUGIA AMBULATORIA POR ENFERMEDAD                                 1\n",
       "CIRUGIA AMBULATORIA POR ENFERMEDAD CONGENITA                       1\n",
       "COBERTURA PROGRAMA PALIATIVOS                                      1\n",
       "CONCILIACION                                                       1\n",
       "CONSULTA DE URGENCIAS                                              1\n",
       "CONSULTAS PRENATALES                                               1\n",
       "ODONTOLOGÍA                                                        1\n",
       "DIALISIS                                                           1\n",
       "EXAMENES DE DIAGNOSTICO                                            1\n",
       "FISIOTERAPIA ILIMITADA                                             1\n",
       "FUNERARIOS                                                         1\n",
       "INFILTRACIONES                                                     1\n",
       "LABORATORIO CLINICO                                                1\n",
       "VACUNACION                                                         1\n",
       "Name: Reclamacion_Desc, dtype: int64"
      ]
     },
     "execution_count": 8,
     "metadata": {},
     "output_type": "execute_result"
    }
   ],
   "source": [
    "reclamaciones['Reclamacion_Desc'].value_counts() #Hay valores en minuscula y otros en mayúscula, hay datos con tilde y otros sin tilde"
   ]
  },
  {
   "cell_type": "code",
   "execution_count": 12,
   "id": "1bbe0443",
   "metadata": {},
   "outputs": [],
   "source": [
    "from unidecode import unidecode #  Esta función convierte los caracteres a su forma sin diacríticos, lo que incluye eliminar las tildes.\n",
    "reclamaciones['Reclamacion_Desc'] = reclamaciones['Reclamacion_Desc'].apply(lambda x: unidecode(x) if isinstance(x, str) else x)\n",
    "reclamaciones['Reclamacion_Desc'] = reclamaciones['Reclamacion_Desc'].str.upper() #Se cambia todos los datos a mayúscula\n",
    "#reclamaciones['Reclamacion_Desc'].value_counts()"
   ]
  },
  {
   "cell_type": "markdown",
   "id": "6e02d343",
   "metadata": {},
   "source": [
    "#### **Tabla diagnosticos**"
   ]
  },
  {
   "cell_type": "code",
   "execution_count": 14,
   "id": "3cb53628",
   "metadata": {},
   "outputs": [
    {
     "name": "stdout",
     "output_type": "stream",
     "text": [
      "<class 'pandas.core.frame.DataFrame'>\n",
      "RangeIndex: 2724 entries, 0 to 2723\n",
      "Data columns (total 2 columns):\n",
      " #   Column              Non-Null Count  Dtype \n",
      "---  ------              --------------  ----- \n",
      " 0   Diagnostico_Codigo  2724 non-null   object\n",
      " 1   Diagnostico_Desc    2724 non-null   object\n",
      "dtypes: object(2)\n",
      "memory usage: 42.7+ KB\n"
     ]
    },
    {
     "data": {
      "text/plain": [
       "0"
      ]
     },
     "execution_count": 14,
     "metadata": {},
     "output_type": "execute_result"
    }
   ],
   "source": [
    "diagnosticos.info() # Se cuenta con 2 campos, el Diagnostico_Codigo  y el Diagnostico_Desc\n",
    "diagnosticos.duplicated().sum() #La tabla no tiene duplicados"
   ]
  },
  {
   "cell_type": "code",
   "execution_count": 15,
   "id": "666a3ac0",
   "metadata": {},
   "outputs": [
    {
     "data": {
      "text/html": [
       "<div>\n",
       "<style scoped>\n",
       "    .dataframe tbody tr th:only-of-type {\n",
       "        vertical-align: middle;\n",
       "    }\n",
       "\n",
       "    .dataframe tbody tr th {\n",
       "        vertical-align: top;\n",
       "    }\n",
       "\n",
       "    .dataframe thead th {\n",
       "        text-align: right;\n",
       "    }\n",
       "</style>\n",
       "<table border=\"1\" class=\"dataframe\">\n",
       "  <thead>\n",
       "    <tr style=\"text-align: right;\">\n",
       "      <th></th>\n",
       "      <th>Diagnostico_Codigo</th>\n",
       "      <th>Diagnostico_Desc</th>\n",
       "    </tr>\n",
       "  </thead>\n",
       "  <tbody>\n",
       "    <tr>\n",
       "      <th>0</th>\n",
       "      <td>-1</td>\n",
       "      <td>Sin Información</td>\n",
       "    </tr>\n",
       "    <tr>\n",
       "      <th>1</th>\n",
       "      <td>0</td>\n",
       "      <td>DIAGNÓSTICO PENDIENTE</td>\n",
       "    </tr>\n",
       "    <tr>\n",
       "      <th>2</th>\n",
       "      <td>9</td>\n",
       "      <td>DIAGNÓSTICO PENDIENTE</td>\n",
       "    </tr>\n",
       "    <tr>\n",
       "      <th>3</th>\n",
       "      <td>A010</td>\n",
       "      <td>FIEBRE TIFOIDEA</td>\n",
       "    </tr>\n",
       "    <tr>\n",
       "      <th>4</th>\n",
       "      <td>A021</td>\n",
       "      <td>SEPTICEMIA DEBIDA A SALMONELLA</td>\n",
       "    </tr>\n",
       "  </tbody>\n",
       "</table>\n",
       "</div>"
      ],
      "text/plain": [
       "  Diagnostico_Codigo                Diagnostico_Desc\n",
       "0                 -1                 Sin Información\n",
       "1                  0           DIAGNÓSTICO PENDIENTE\n",
       "2                  9           DIAGNÓSTICO PENDIENTE\n",
       "3               A010                 FIEBRE TIFOIDEA\n",
       "4               A021  SEPTICEMIA DEBIDA A SALMONELLA"
      ]
     },
     "execution_count": 15,
     "metadata": {},
     "output_type": "execute_result"
    }
   ],
   "source": [
    "diagnosticos.head()"
   ]
  },
  {
   "cell_type": "code",
   "execution_count": 17,
   "id": "d1de7410",
   "metadata": {},
   "outputs": [
    {
     "data": {
      "text/plain": [
       "APENDICITIS, NO ESPECIFICADA                                   2\n",
       "EDEMA PULMONAR                                                 2\n",
       "QUERATOSIS SEBORREICA                                          2\n",
       "SÍNCOPE Y COLAPSO                                              2\n",
       "CUERPO EXTRAÑO EN EL OÍDO                                      2\n",
       "                                                              ..\n",
       "INFARTO AGUDO DEL MIOCARDIO, SIN OTRA ESPECIFICACIÓN           1\n",
       "INFARTO AGUDO DEL MIOCARDIO                                    1\n",
       "INFARTO SUBSECUENTE DEL MIOCARDIO, DE PARTE NO ESPECIFICADA    1\n",
       "OTRAS FORMAS DE ENFERMEDAD ISQUÉMICA AGUDA DEL CORAZÓN         1\n",
       "OTROS ESTADOS POSTQUIRÚRGICOS ESPECIFICADOS                    1\n",
       "Name: Diagnostico_Desc, Length: 2700, dtype: int64"
      ]
     },
     "execution_count": 17,
     "metadata": {},
     "output_type": "execute_result"
    }
   ],
   "source": [
    "diagnosticos['Diagnostico_Desc'].value_counts()"
   ]
  },
  {
   "cell_type": "code",
   "execution_count": 20,
   "id": "7b7f9f02",
   "metadata": {},
   "outputs": [],
   "source": [
    "diagnosticos['Diagnostico_Desc'] = diagnosticos['Diagnostico_Desc'].apply(lambda x: unidecode(x) if isinstance(x, str) else x)\n",
    "#Se elimina tildes\n",
    "#diagnosticos['Diagnostico_Desc'].value_counts()"
   ]
  },
  {
   "cell_type": "code",
   "execution_count": 34,
   "id": "eb7606af",
   "metadata": {},
   "outputs": [
    {
     "data": {
      "image/png": "[encoded data removed]",
      "text/plain": [
       "<Figure size 576x432 with 1 Axes>"
      ]
     },
     "metadata": {
      "needs_background": "light"
     },
     "output_type": "display_data"
    }
   ],
   "source": [
    "import matplotlib.pyplot as plt\n",
    "import seaborn as sns\n",
    "\n",
    "# Datos de ejemplo\n",
    "reclamacion_ids = [1, 2, 3, 4, 5]\n",
    "reclamacion_descs = [\"ATENCION DEL PARTO\", \"ATENCION INTEGRAL DE SALUD MENTAL\",\n",
    "                     \"CIRUGIA AMBULATORIA POR ACCIDENTE\", \"CIRUGIA AMBULATORIA POR ENFERMEDAD\",\n",
    "                     \"CIRUGIA AMBULATORIA POR ENFERMEDAD CONGENITA\"]\n",
    "\n",
    "# Crear el gráfico de barras\n",
    "plt.figure(figsize=(8, 6))\n",
    "sns.barplot(x=reclamacion_ids, y=reclamacion_descs, palette='viridis')\n",
    "\n",
    "# Personalizar el gráfico\n",
    "plt.xlabel('Reclamacion_Id')\n",
    "plt.ylabel('Reclamacion_Desc')\n",
    "plt.title('Distribución de Reclamaciones')\n",
    "\n",
    "# Mostrar el gráfico\n",
    "plt.show()"
   ]
  },
  {
   "cell_type": "code",
   "execution_count": 35,
   "id": "5061c54f",
   "metadata": {},
   "outputs": [
    {
     "data": {
      "image/png": "[encoded data removed]",
      "text/plain": [
       "<Figure size 576x432 with 1 Axes>"
      ]
     },
     "metadata": {
      "needs_background": "light"
     },
     "output_type": "display_data"
    }
   ],
   "source": [
    "import pandas as pd\n",
    "import matplotlib.pyplot as plt\n",
    "import seaborn as sns\n",
    "\n",
    "# Datos de ejemplo\n",
    "reclamacion_descs = [\"ATENCION DEL PARTO\", \"ATENCION INTEGRAL DE SALUD MENTAL\",\n",
    "                     \"CIRUGIA AMBULATORIA POR ACCIDENTE\", \"CIRUGIA AMBULATORIA POR ENFERMEDAD\",\n",
    "                     \"CIRUGIA AMBULATORIA POR ENFERMEDAD CONGENITA\"]\n",
    "\n",
    "# Crear un DataFrame a partir de los datos\n",
    "df = pd.DataFrame({'Reclamacion_Desc': reclamacion_descs})\n",
    "\n",
    "# Calcular la frecuencia de cada valor de Reclamacion_Desc\n",
    "frecuencia = df['Reclamacion_Desc'].value_counts()\n",
    "\n",
    "# Crear el gráfico de barras\n",
    "plt.figure(figsize=(8, 6))\n",
    "sns.barplot(x=frecuencia.values, y=frecuencia.index, palette='viridis')\n",
    "\n",
    "# Personalizar el gráfico\n",
    "plt.xlabel('Frecuencia')\n",
    "plt.ylabel('Reclamacion_Desc')\n",
    "plt.title('Distribución de Reclamaciones')\n",
    "\n",
    "# Mostrar el gráfico\n",
    "plt.show()"
   ]
  },
  {
   "cell_type": "markdown",
   "id": "fd39a18a",
   "metadata": {},
   "source": [
    "#### **Tabla Género**"
   ]
  },
  {
   "cell_type": "code",
   "execution_count": 23,
   "id": "66f9b221",
   "metadata": {},
   "outputs": [
    {
     "name": "stdout",
     "output_type": "stream",
     "text": [
      "<class 'pandas.core.frame.DataFrame'>\n",
      "RangeIndex: 3 entries, 0 to 2\n",
      "Data columns (total 2 columns):\n",
      " #   Column     Non-Null Count  Dtype \n",
      "---  ------     --------------  ----- \n",
      " 0   Sexo_Cd    3 non-null      object\n",
      " 1   Sexo_desc  3 non-null      object\n",
      "dtypes: object(2)\n",
      "memory usage: 176.0+ bytes\n"
     ]
    },
    {
     "data": {
      "text/plain": [
       "0"
      ]
     },
     "execution_count": 23,
     "metadata": {},
     "output_type": "execute_result"
    }
   ],
   "source": [
    "genero.info() # Se observa que tiene 2 campos, el Sexo cd y la descripción \n",
    "genero.duplicated().sum() #No se tienen duplicados "
   ]
  },
  {
   "cell_type": "code",
   "execution_count": 24,
   "id": "73527d1a",
   "metadata": {},
   "outputs": [
    {
     "data": {
      "text/html": [
       "<div>\n",
       "<style scoped>\n",
       "    .dataframe tbody tr th:only-of-type {\n",
       "        vertical-align: middle;\n",
       "    }\n",
       "\n",
       "    .dataframe tbody tr th {\n",
       "        vertical-align: top;\n",
       "    }\n",
       "\n",
       "    .dataframe thead th {\n",
       "        text-align: right;\n",
       "    }\n",
       "</style>\n",
       "<table border=\"1\" class=\"dataframe\">\n",
       "  <thead>\n",
       "    <tr style=\"text-align: right;\">\n",
       "      <th></th>\n",
       "      <th>Sexo_Cd</th>\n",
       "      <th>Sexo_desc</th>\n",
       "    </tr>\n",
       "  </thead>\n",
       "  <tbody>\n",
       "    <tr>\n",
       "      <th>0</th>\n",
       "      <td>M</td>\n",
       "      <td>Masculino</td>\n",
       "    </tr>\n",
       "    <tr>\n",
       "      <th>1</th>\n",
       "      <td>F</td>\n",
       "      <td>Femenino</td>\n",
       "    </tr>\n",
       "    <tr>\n",
       "      <th>2</th>\n",
       "      <td>-1</td>\n",
       "      <td>Sin Informacion</td>\n",
       "    </tr>\n",
       "  </tbody>\n",
       "</table>\n",
       "</div>"
      ],
      "text/plain": [
       "  Sexo_Cd        Sexo_desc\n",
       "0       M        Masculino\n",
       "1       F         Femenino\n",
       "2      -1  Sin Informacion"
      ]
     },
     "execution_count": 24,
     "metadata": {},
     "output_type": "execute_result"
    }
   ],
   "source": [
    "genero.head() # Es una tabla descriptiva de los valores asociados en otras tablas"
   ]
  },
  {
   "cell_type": "markdown",
   "id": "44ae9da6",
   "metadata": {},
   "source": [
    "#### **Tabla Regional**"
   ]
  },
  {
   "cell_type": "code",
   "execution_count": 31,
   "id": "5d173672",
   "metadata": {},
   "outputs": [
    {
     "name": "stdout",
     "output_type": "stream",
     "text": [
      "<class 'pandas.core.frame.DataFrame'>\n",
      "RangeIndex: 6 entries, 0 to 5\n",
      "Data columns (total 2 columns):\n",
      " #   Column         Non-Null Count  Dtype \n",
      "---  ------         --------------  ----- \n",
      " 0   Regional_id    6 non-null      int64 \n",
      " 1   Regional_Desc  6 non-null      object\n",
      "dtypes: int64(1), object(1)\n",
      "memory usage: 224.0+ bytes\n"
     ]
    },
    {
     "data": {
      "text/plain": [
       "0"
      ]
     },
     "execution_count": 31,
     "metadata": {},
     "output_type": "execute_result"
    }
   ],
   "source": [
    "regional.info() # Se observa que tiene 2 campos, id de la región y descripción de cada región \n",
    "regional.duplicated().sum() #No se tienen duplicados"
   ]
  },
  {
   "cell_type": "code",
   "execution_count": 33,
   "id": "135d0656",
   "metadata": {},
   "outputs": [
    {
     "data": {
      "text/html": [
       "<div>\n",
       "<style scoped>\n",
       "    .dataframe tbody tr th:only-of-type {\n",
       "        vertical-align: middle;\n",
       "    }\n",
       "\n",
       "    .dataframe tbody tr th {\n",
       "        vertical-align: top;\n",
       "    }\n",
       "\n",
       "    .dataframe thead th {\n",
       "        text-align: right;\n",
       "    }\n",
       "</style>\n",
       "<table border=\"1\" class=\"dataframe\">\n",
       "  <thead>\n",
       "    <tr style=\"text-align: right;\">\n",
       "      <th></th>\n",
       "      <th>Regional_id</th>\n",
       "      <th>Regional_Desc</th>\n",
       "    </tr>\n",
       "  </thead>\n",
       "  <tbody>\n",
       "    <tr>\n",
       "      <th>0</th>\n",
       "      <td>1</td>\n",
       "      <td>REGIONAL ANTIOQUIA</td>\n",
       "    </tr>\n",
       "    <tr>\n",
       "      <th>1</th>\n",
       "      <td>2</td>\n",
       "      <td>REGIONAL CENTRO</td>\n",
       "    </tr>\n",
       "    <tr>\n",
       "      <th>2</th>\n",
       "      <td>3</td>\n",
       "      <td>REGIONAL NORTE</td>\n",
       "    </tr>\n",
       "    <tr>\n",
       "      <th>3</th>\n",
       "      <td>4</td>\n",
       "      <td>REGIONAL OCCIDENTE</td>\n",
       "    </tr>\n",
       "    <tr>\n",
       "      <th>4</th>\n",
       "      <td>5</td>\n",
       "      <td>REGIONAL EJE CAFETERO</td>\n",
       "    </tr>\n",
       "    <tr>\n",
       "      <th>5</th>\n",
       "      <td>6</td>\n",
       "      <td>Sin Información</td>\n",
       "    </tr>\n",
       "  </tbody>\n",
       "</table>\n",
       "</div>"
      ],
      "text/plain": [
       "   Regional_id          Regional_Desc\n",
       "0            1     REGIONAL ANTIOQUIA\n",
       "1            2        REGIONAL CENTRO\n",
       "2            3         REGIONAL NORTE\n",
       "3            4     REGIONAL OCCIDENTE\n",
       "4            5  REGIONAL EJE CAFETERO\n",
       "5            6        Sin Información"
      ]
     },
     "execution_count": 33,
     "metadata": {},
     "output_type": "execute_result"
    }
   ],
   "source": [
    "regional.head(6) # Es una tabla descriptiva de los valores asociados en otras tablas"
   ]
  },
  {
   "cell_type": "markdown",
   "id": "e31b7edb",
   "metadata": {},
   "source": [
    "#### **Tabla Sociodemograficas**"
   ]
  },
  {
   "cell_type": "code",
   "execution_count": 27,
   "id": "0bbaf371",
   "metadata": {},
   "outputs": [
    {
     "name": "stdout",
     "output_type": "stream",
     "text": [
      "<class 'pandas.core.frame.DataFrame'>\n",
      "RangeIndex: 218205 entries, 0 to 218204\n",
      "Data columns (total 9 columns):\n",
      " #   Column              Non-Null Count   Dtype \n",
      "---  ------              --------------   ----- \n",
      " 0   Afiliado_Id         218205 non-null  int64 \n",
      " 1   Sexo_codigo         218205 non-null  object\n",
      " 2   FechaNacimiento     218205 non-null  int64 \n",
      " 3   Regional_codigo     218205 non-null  object\n",
      " 4   CANCER              218205 non-null  int64 \n",
      " 5   EPOC                218205 non-null  int64 \n",
      " 6   DIABETES            218205 non-null  int64 \n",
      " 7   HIPERTENSION        218205 non-null  int64 \n",
      " 8   ENF_CARDIOVASCULAR  218205 non-null  int64 \n",
      "dtypes: int64(7), object(2)\n",
      "memory usage: 15.0+ MB\n"
     ]
    },
    {
     "data": {
      "text/plain": [
       "0"
      ]
     },
     "execution_count": 27,
     "metadata": {},
     "output_type": "execute_result"
    }
   ],
   "source": [
    "sociodemograficas.info() # Se observa que tiene 2 campos, id de la región y descripción de cada región \n",
    "sociodemograficas.duplicated().sum() #No se tienen duplicados"
   ]
  },
  {
   "cell_type": "code",
   "execution_count": 28,
   "id": "deb06ce3",
   "metadata": {},
   "outputs": [
    {
     "data": {
      "text/html": [
       "<div>\n",
       "<style scoped>\n",
       "    .dataframe tbody tr th:only-of-type {\n",
       "        vertical-align: middle;\n",
       "    }\n",
       "\n",
       "    .dataframe tbody tr th {\n",
       "        vertical-align: top;\n",
       "    }\n",
       "\n",
       "    .dataframe thead th {\n",
       "        text-align: right;\n",
       "    }\n",
       "</style>\n",
       "<table border=\"1\" class=\"dataframe\">\n",
       "  <thead>\n",
       "    <tr style=\"text-align: right;\">\n",
       "      <th></th>\n",
       "      <th>Afiliado_Id</th>\n",
       "      <th>Sexo_codigo</th>\n",
       "      <th>FechaNacimiento</th>\n",
       "      <th>Regional_codigo</th>\n",
       "      <th>CANCER</th>\n",
       "      <th>EPOC</th>\n",
       "      <th>DIABETES</th>\n",
       "      <th>HIPERTENSION</th>\n",
       "      <th>ENF_CARDIOVASCULAR</th>\n",
       "    </tr>\n",
       "  </thead>\n",
       "  <tbody>\n",
       "    <tr>\n",
       "      <th>0</th>\n",
       "      <td>738288</td>\n",
       "      <td>M</td>\n",
       "      <td>28072</td>\n",
       "      <td>1</td>\n",
       "      <td>0</td>\n",
       "      <td>0</td>\n",
       "      <td>0</td>\n",
       "      <td>0</td>\n",
       "      <td>0</td>\n",
       "    </tr>\n",
       "    <tr>\n",
       "      <th>1</th>\n",
       "      <td>738294</td>\n",
       "      <td>M</td>\n",
       "      <td>23392</td>\n",
       "      <td>2</td>\n",
       "      <td>0</td>\n",
       "      <td>0</td>\n",
       "      <td>0</td>\n",
       "      <td>0</td>\n",
       "      <td>0</td>\n",
       "    </tr>\n",
       "    <tr>\n",
       "      <th>2</th>\n",
       "      <td>738303</td>\n",
       "      <td>F</td>\n",
       "      <td>27177</td>\n",
       "      <td>3</td>\n",
       "      <td>0</td>\n",
       "      <td>0</td>\n",
       "      <td>0</td>\n",
       "      <td>0</td>\n",
       "      <td>0</td>\n",
       "    </tr>\n",
       "    <tr>\n",
       "      <th>3</th>\n",
       "      <td>738318</td>\n",
       "      <td>M</td>\n",
       "      <td>15053</td>\n",
       "      <td>2</td>\n",
       "      <td>1</td>\n",
       "      <td>0</td>\n",
       "      <td>1</td>\n",
       "      <td>1</td>\n",
       "      <td>0</td>\n",
       "    </tr>\n",
       "    <tr>\n",
       "      <th>4</th>\n",
       "      <td>738323</td>\n",
       "      <td>F</td>\n",
       "      <td>10447</td>\n",
       "      <td>2</td>\n",
       "      <td>0</td>\n",
       "      <td>0</td>\n",
       "      <td>0</td>\n",
       "      <td>1</td>\n",
       "      <td>0</td>\n",
       "    </tr>\n",
       "  </tbody>\n",
       "</table>\n",
       "</div>"
      ],
      "text/plain": [
       "   Afiliado_Id Sexo_codigo  FechaNacimiento Regional_codigo  CANCER  EPOC  \\\n",
       "0       738288           M            28072               1       0     0   \n",
       "1       738294           M            23392               2       0     0   \n",
       "2       738303           F            27177               3       0     0   \n",
       "3       738318           M            15053               2       1     0   \n",
       "4       738323           F            10447               2       0     0   \n",
       "\n",
       "   DIABETES  HIPERTENSION  ENF_CARDIOVASCULAR  \n",
       "0         0             0                   0  \n",
       "1         0             0                   0  \n",
       "2         0             0                   0  \n",
       "3         1             1                   0  \n",
       "4         0             1                   0  "
      ]
     },
     "execution_count": 28,
     "metadata": {},
     "output_type": "execute_result"
    }
   ],
   "source": [
    "sociodemograficas.head() # Es una tabla descriptiva de los valores asociados en otras tablas"
   ]
  },
  {
   "cell_type": "code",
   "execution_count": 29,
   "id": "dcb2a27d",
   "metadata": {},
   "outputs": [
    {
     "data": {
      "text/plain": [
       "2       106907\n",
       "1        39582\n",
       "4        36030\n",
       "3        28259\n",
       "5         7377\n",
       "6           49\n",
       "#N/D         1\n",
       "Name: Regional_codigo, dtype: int64"
      ]
     },
     "execution_count": 29,
     "metadata": {},
     "output_type": "execute_result"
    }
   ],
   "source": [
    "sociodemograficas[\"Regional_codigo\"].value_counts()"
   ]
  },
  {
   "cell_type": "code",
   "execution_count": 30,
   "id": "fbf4a709",
   "metadata": {},
   "outputs": [
    {
     "data": {
      "text/plain": [
       "5146"
      ]
     },
     "execution_count": 30,
     "metadata": {},
     "output_type": "execute_result"
    }
   ],
   "source": [
    "sociodemograficas['FechaNacimiento'].min()"
   ]
  },
  {
   "cell_type": "markdown",
   "id": "273d83bf",
   "metadata": {},
   "source": [
    "En el sistema de numeración de fechas seriales de Excel, la fecha de serie base es el 1 de enero de 1900, representada por el número de serie 1."
   ]
  },
  {
   "cell_type": "code",
   "execution_count": 119,
   "id": "6c85436b",
   "metadata": {},
   "outputs": [],
   "source": [
    "# Aplicar la función lambda a la columna 'FechasExcel' y crear una nueva columna 'FechasConvertidas'\n",
    "sociodemograficas['FechaNacimiento'] = sociodemograficas['FechaNacimiento'].apply(lambda x: datetime.datetime(1899, 12, 30) + datetime.timedelta(days=x))"
   ]
  },
  {
   "cell_type": "code",
   "execution_count": 79,
   "id": "57ed21a6",
   "metadata": {},
   "outputs": [],
   "source": [
    "top_5_fechas_recientes = sociodemograficas.nlargest(5, 'FechaNacimiento')['FechaNacimiento']"
   ]
  },
  {
   "cell_type": "code",
   "execution_count": 80,
   "id": "14921a80",
   "metadata": {},
   "outputs": [
    {
     "data": {
      "text/plain": [
       "214618   2024-04-05\n",
       "28183    2023-02-25\n",
       "64245    2023-01-02\n",
       "167519   2022-11-01\n",
       "174327   2022-08-06\n",
       "            ...    \n",
       "199618   2018-01-01\n",
       "178835   2017-12-31\n",
       "178836   2017-12-31\n",
       "178881   2017-12-31\n",
       "178882   2017-12-31\n",
       "Name: FechaNacimiento, Length: 8000, dtype: datetime64[ns]"
      ]
     },
     "execution_count": 80,
     "metadata": {},
     "output_type": "execute_result"
    }
   ],
   "source": [
    "top_5_fechas_recientes #Hay que determinar que edad mínima, ya que hay muchas fechas recientes"
   ]
  },
  {
   "cell_type": "code",
   "execution_count": 120,
   "id": "8e291422",
   "metadata": {},
   "outputs": [
    {
     "data": {
      "text/html": [
       "<div>\n",
       "<style scoped>\n",
       "    .dataframe tbody tr th:only-of-type {\n",
       "        vertical-align: middle;\n",
       "    }\n",
       "\n",
       "    .dataframe tbody tr th {\n",
       "        vertical-align: top;\n",
       "    }\n",
       "\n",
       "    .dataframe thead th {\n",
       "        text-align: right;\n",
       "    }\n",
       "</style>\n",
       "<table border=\"1\" class=\"dataframe\">\n",
       "  <thead>\n",
       "    <tr style=\"text-align: right;\">\n",
       "      <th></th>\n",
       "      <th>Afiliado_Id</th>\n",
       "      <th>Sexo_codigo</th>\n",
       "      <th>FechaNacimiento</th>\n",
       "      <th>Regional_codigo</th>\n",
       "      <th>CANCER</th>\n",
       "      <th>EPOC</th>\n",
       "      <th>DIABETES</th>\n",
       "      <th>HIPERTENSION</th>\n",
       "      <th>ENF_CARDIOVASCULAR</th>\n",
       "    </tr>\n",
       "  </thead>\n",
       "  <tbody>\n",
       "    <tr>\n",
       "      <th>0</th>\n",
       "      <td>738288</td>\n",
       "      <td>M</td>\n",
       "      <td>1976-11-08</td>\n",
       "      <td>1</td>\n",
       "      <td>0</td>\n",
       "      <td>0</td>\n",
       "      <td>0</td>\n",
       "      <td>0</td>\n",
       "      <td>0</td>\n",
       "    </tr>\n",
       "    <tr>\n",
       "      <th>1</th>\n",
       "      <td>738294</td>\n",
       "      <td>M</td>\n",
       "      <td>1964-01-16</td>\n",
       "      <td>2</td>\n",
       "      <td>0</td>\n",
       "      <td>0</td>\n",
       "      <td>0</td>\n",
       "      <td>0</td>\n",
       "      <td>0</td>\n",
       "    </tr>\n",
       "    <tr>\n",
       "      <th>2</th>\n",
       "      <td>738303</td>\n",
       "      <td>F</td>\n",
       "      <td>1974-05-28</td>\n",
       "      <td>3</td>\n",
       "      <td>0</td>\n",
       "      <td>0</td>\n",
       "      <td>0</td>\n",
       "      <td>0</td>\n",
       "      <td>0</td>\n",
       "    </tr>\n",
       "    <tr>\n",
       "      <th>3</th>\n",
       "      <td>738318</td>\n",
       "      <td>M</td>\n",
       "      <td>1941-03-18</td>\n",
       "      <td>2</td>\n",
       "      <td>1</td>\n",
       "      <td>0</td>\n",
       "      <td>1</td>\n",
       "      <td>1</td>\n",
       "      <td>0</td>\n",
       "    </tr>\n",
       "    <tr>\n",
       "      <th>4</th>\n",
       "      <td>738323</td>\n",
       "      <td>F</td>\n",
       "      <td>1928-08-07</td>\n",
       "      <td>2</td>\n",
       "      <td>0</td>\n",
       "      <td>0</td>\n",
       "      <td>0</td>\n",
       "      <td>1</td>\n",
       "      <td>0</td>\n",
       "    </tr>\n",
       "    <tr>\n",
       "      <th>...</th>\n",
       "      <td>...</td>\n",
       "      <td>...</td>\n",
       "      <td>...</td>\n",
       "      <td>...</td>\n",
       "      <td>...</td>\n",
       "      <td>...</td>\n",
       "      <td>...</td>\n",
       "      <td>...</td>\n",
       "      <td>...</td>\n",
       "    </tr>\n",
       "    <tr>\n",
       "      <th>218200</th>\n",
       "      <td>59559606</td>\n",
       "      <td>F</td>\n",
       "      <td>2004-06-26</td>\n",
       "      <td>2</td>\n",
       "      <td>0</td>\n",
       "      <td>0</td>\n",
       "      <td>0</td>\n",
       "      <td>0</td>\n",
       "      <td>0</td>\n",
       "    </tr>\n",
       "    <tr>\n",
       "      <th>218201</th>\n",
       "      <td>59564764</td>\n",
       "      <td>F</td>\n",
       "      <td>2005-03-18</td>\n",
       "      <td>2</td>\n",
       "      <td>0</td>\n",
       "      <td>0</td>\n",
       "      <td>0</td>\n",
       "      <td>0</td>\n",
       "      <td>0</td>\n",
       "    </tr>\n",
       "    <tr>\n",
       "      <th>218202</th>\n",
       "      <td>59565065</td>\n",
       "      <td>F</td>\n",
       "      <td>2005-03-14</td>\n",
       "      <td>2</td>\n",
       "      <td>0</td>\n",
       "      <td>0</td>\n",
       "      <td>0</td>\n",
       "      <td>0</td>\n",
       "      <td>0</td>\n",
       "    </tr>\n",
       "    <tr>\n",
       "      <th>218203</th>\n",
       "      <td>59570753</td>\n",
       "      <td>M</td>\n",
       "      <td>1976-03-20</td>\n",
       "      <td>4</td>\n",
       "      <td>0</td>\n",
       "      <td>0</td>\n",
       "      <td>0</td>\n",
       "      <td>0</td>\n",
       "      <td>0</td>\n",
       "    </tr>\n",
       "    <tr>\n",
       "      <th>218204</th>\n",
       "      <td>59571570</td>\n",
       "      <td>M</td>\n",
       "      <td>2001-10-26</td>\n",
       "      <td>4</td>\n",
       "      <td>0</td>\n",
       "      <td>0</td>\n",
       "      <td>0</td>\n",
       "      <td>0</td>\n",
       "      <td>0</td>\n",
       "    </tr>\n",
       "  </tbody>\n",
       "</table>\n",
       "<p>218205 rows × 9 columns</p>\n",
       "</div>"
      ],
      "text/plain": [
       "        Afiliado_Id Sexo_codigo FechaNacimiento Regional_codigo  CANCER  EPOC  \\\n",
       "0            738288           M      1976-11-08               1       0     0   \n",
       "1            738294           M      1964-01-16               2       0     0   \n",
       "2            738303           F      1974-05-28               3       0     0   \n",
       "3            738318           M      1941-03-18               2       1     0   \n",
       "4            738323           F      1928-08-07               2       0     0   \n",
       "...             ...         ...             ...             ...     ...   ...   \n",
       "218200     59559606           F      2004-06-26               2       0     0   \n",
       "218201     59564764           F      2005-03-18               2       0     0   \n",
       "218202     59565065           F      2005-03-14               2       0     0   \n",
       "218203     59570753           M      1976-03-20               4       0     0   \n",
       "218204     59571570           M      2001-10-26               4       0     0   \n",
       "\n",
       "        DIABETES  HIPERTENSION  ENF_CARDIOVASCULAR  \n",
       "0              0             0                   0  \n",
       "1              0             0                   0  \n",
       "2              0             0                   0  \n",
       "3              1             1                   0  \n",
       "4              0             1                   0  \n",
       "...          ...           ...                 ...  \n",
       "218200         0             0                   0  \n",
       "218201         0             0                   0  \n",
       "218202         0             0                   0  \n",
       "218203         0             0                   0  \n",
       "218204         0             0                   0  \n",
       "\n",
       "[218205 rows x 9 columns]"
      ]
     },
     "execution_count": 120,
     "metadata": {},
     "output_type": "execute_result"
    }
   ],
   "source": [
    "sociodemograficas"
   ]
  },
  {
   "cell_type": "code",
   "execution_count": 81,
   "id": "8c218b15",
   "metadata": {},
   "outputs": [
    {
     "data": {
      "text/plain": [
       "Index(['Afiliado_Id', 'Sexo_codigo', 'FechaNacimiento', 'Regional_codigo',\n",
       "       'CANCER', 'EPOC', 'DIABETES', 'HIPERTENSION', 'ENF_CARDIOVASCULAR'],\n",
       "      dtype='object')"
      ]
     },
     "execution_count": 81,
     "metadata": {},
     "output_type": "execute_result"
    }
   ],
   "source": [
    "sociodemograficas.columns"
   ]
  },
  {
   "cell_type": "code",
   "execution_count": 114,
   "id": "4abd1027",
   "metadata": {},
   "outputs": [
    {
     "data": {
      "image/png": "[encoded data removed]",
      "text/plain": [
       "<Figure size 640x480 with 1 Axes>"
      ]
     },
     "metadata": {},
     "output_type": "display_data"
    }
   ],
   "source": [
    "genero_counts = sociodemograficas['Sexo_codigo'].value_counts()\n",
    "\n",
    "# Crear el gráfico de barras\n",
    "plt.bar(genero_counts.index, genero_counts.values)\n",
    "\n",
    "# Personalizar el gráfico\n",
    "plt.xlabel('Género')\n",
    "plt.ylabel('Recuento')\n",
    "plt.title('Recuento de género de los afiliados')\n",
    "\n",
    "# Mostrar el gráfico\n",
    "plt.show()"
   ]
  },
  {
   "cell_type": "code",
   "execution_count": 115,
   "id": "ef76f502",
   "metadata": {},
   "outputs": [
    {
     "data": {
      "image/png": "[encoded data removed]",
      "text/plain": [
       "<Figure size 800x400 with 1 Axes>"
      ]
     },
     "metadata": {},
     "output_type": "display_data"
    }
   ],
   "source": [
    "# Seleccionar las columnas de las condiciones médicas con iloc\n",
    "condiciones_cols = sociodemograficas.iloc[:, 4:]\n",
    "\n",
    "# Calcular la frecuencia de las condiciones médicas\n",
    "condiciones_counts = condiciones_cols.sum()\n",
    "\n",
    "# Crear el gráfico de barras apiladas\n",
    "plt.figure(figsize=(8, 4))\n",
    "sns.barplot(x=condiciones_counts.index, y=condiciones_counts.values, palette='viridis')\n",
    "\n",
    "# Personalizar el gráfico\n",
    "plt.xlabel('Condiciones Médicas')\n",
    "plt.ylabel('Frecuencia')\n",
    "plt.title('Frecuencia de Condiciones Médicas en los Afiliados')\n",
    "plt.xticks(rotation=45)\n",
    "\n",
    "# Mostrar el gráfico\n",
    "plt.show()"
   ]
  },
  {
   "cell_type": "code",
   "execution_count": 134,
   "id": "bae1b4e9",
   "metadata": {},
   "outputs": [
    {
     "data": {
      "image/png": "[encoded data removed]",
      "text/plain": [
       "<Figure size 1400x1000 with 1 Axes>"
      ]
     },
     "metadata": {},
     "output_type": "display_data"
    }
   ],
   "source": [
    "# Calcular la edad a partir de la fecha de nacimiento\n",
    "today = pd.to_datetime('today').date()\n",
    "sociodemograficas['Edad'] = today.year - sociodemograficas['FechaNacimiento'].dt.year\n",
    "\n",
    "# Filtrar el DataFrame para incluir solo las edades mayores de 5 años\n",
    "df_filtrado = sociodemograficas[sociodemograficas['Edad'] > 5]\n",
    "\n",
    "# Seleccionar las columnas de edad y condiciones médicas\n",
    "condiciones = ['CANCER', 'EPOC', 'DIABETES', 'HIPERTENSION', 'ENF_CARDIOVASCULAR']\n",
    "edad_condiciones = df_filtrado[['Edad'] + condiciones]\n",
    "\n",
    "# Calcular el recuento de condiciones médicas por edad\n",
    "conteo_condiciones = edad_condiciones.groupby('Edad')[condiciones].sum()\n",
    "\n",
    "ax = conteo_condiciones.plot(kind='bar', stacked=True)\n",
    "\n",
    "# Personalizar el gráfico\n",
    "plt.xlabel('Edad')\n",
    "plt.ylabel('Recuento')\n",
    "plt.title('Recuento de Condiciones Médicas por Edad (Mayores de 5 años)')\n",
    "\n",
    "# Ajustar el tamaño del gráfico manualmente\n",
    "plt.gcf().set_size_inches(14, 10)\n",
    "\n",
    "# Mostrar el gráfico\n",
    "plt.show()"
   ]
  },
  {
   "attachments": {},
   "cell_type": "markdown",
   "id": "a28534f1",
   "metadata": {},
   "source": [
    "Base de datos utilizaciones\n"
   ]
  },
  {
   "cell_type": "code",
   "execution_count": null,
   "id": "9a343299",
   "metadata": {},
   "outputs": [],
   "source": [
    "utilizaciones.info() # Se observa que tiene 6 campos, Fecha_Reclamacion, Afiliado_Id, Reclamacion_codigo, Diagnostico_codigo, Cantidad, Precio\n"
   ]
  },
  {
   "cell_type": "code",
   "execution_count": null,
   "id": "50a0e2db",
   "metadata": {},
   "outputs": [],
   "source": [
    "utilizaciones.duplicated().sum() #No se tienen duplicados\n"
   ]
  },
  {
   "cell_type": "code",
   "execution_count": null,
   "id": "547b357e",
   "metadata": {},
   "outputs": [],
   "source": [
    "utilizaciones.head() # Es una tabla que contiene las reclamaciones realizadas"
   ]
  },
  {
   "cell_type": "code",
   "execution_count": null,
   "id": "85be97be",
   "metadata": {},
   "outputs": [],
   "source": [
    "utilizaciones[\"Fecha_Reclamacion\"].value_counts() "
   ]
  },
  {
   "cell_type": "code",
   "execution_count": null,
   "id": "d09bc5d2",
   "metadata": {},
   "outputs": [],
   "source": [
    "utilizaciones['Fecha_Reclamacion']=pd.to_datetime(utilizaciones[\"Fecha_Reclamacion\"], format='%Y-%m-%d')"
   ]
  },
  {
   "cell_type": "code",
   "execution_count": null,
   "id": "d8365773",
   "metadata": {},
   "outputs": [],
   "source": [
    "utilizaciones['Afiliado_Id'].value_counts() "
   ]
  },
  {
   "cell_type": "code",
   "execution_count": null,
   "id": "7739a7ae",
   "metadata": {},
   "outputs": [],
   "source": [
    "utilizaciones['Afiliado_Id'].hist()"
   ]
  },
  {
   "cell_type": "code",
   "execution_count": null,
   "id": "6da222ef",
   "metadata": {},
   "outputs": [],
   "source": [
    "utilizaciones['Reclamacion_codigo'].value_counts() #El mayor número de reclamaciones realizadas son las de codigo 9"
   ]
  },
  {
   "cell_type": "code",
   "execution_count": null,
   "id": "bc1b8e69",
   "metadata": {},
   "outputs": [],
   "source": [
    "utilizaciones['Reclamacion_codigo'].hist(rwidth=0.6)"
   ]
  },
  {
   "cell_type": "code",
   "execution_count": null,
   "id": "2db9cb23",
   "metadata": {},
   "outputs": [],
   "source": [
    "utilizaciones['Reclamacion_codigo'].min() #El codigo de menor reclamaciones realizada es el codigo 1"
   ]
  },
  {
   "cell_type": "code",
   "execution_count": null,
   "id": "747dcc47",
   "metadata": {},
   "outputs": [],
   "source": [
    "pd.set_option(\"display.max_rows\", None) #Este codigo se utiliza para que value counts deje ver todos los resultados"
   ]
  },
  {
   "cell_type": "code",
   "execution_count": null,
   "id": "096d0e15",
   "metadata": {},
   "outputs": [],
   "source": [
    "utilizaciones['Reclamacion_codigo'].unique() #Existen 35 tipos de reclamaciones\n"
   ]
  },
  {
   "cell_type": "code",
   "execution_count": null,
   "id": "e1e688ab",
   "metadata": {},
   "outputs": [],
   "source": [
    "utilizaciones['Diagnostico_Codigo'].value_counts() #El valor 9 no es un código de diagnostico, pero debido a la cantidad de datos que tiene, se toma coo que hace referencia a sin diagnostico "
   ]
  },
  {
   "cell_type": "code",
   "execution_count": null,
   "id": "d09d1f47",
   "metadata": {},
   "outputs": [],
   "source": [
    "utilizaciones['Cantidad'].value_counts() #La mayor cantidad de reclamaciones correspondientes a los códigos. Se asume que el valor de 1 es para todos aquellos a los que no se les tiene registrado el diagnostico."
   ]
  },
  {
   "cell_type": "code",
   "execution_count": null,
   "id": "10b6d489",
   "metadata": {},
   "outputs": [],
   "source": [
    "utilizaciones['Cantidad'].sort_values(ascending=False) #Las mayores cantidades de reclamaciones son 210"
   ]
  },
  {
   "cell_type": "code",
   "execution_count": null,
   "id": "77ad9085",
   "metadata": {},
   "outputs": [],
   "source": [
    "utilizaciones['Precio'].value_counts() #Estos valores son muy altos, se debn normalizar los datos"
   ]
  },
  {
   "cell_type": "code",
   "execution_count": null,
   "id": "461fef4e",
   "metadata": {},
   "outputs": [],
   "source": [
    "utilizaciones['Precio'].min() #El precio mínimo pagado es de 2.48 "
   ]
  },
  {
   "cell_type": "code",
   "execution_count": null,
   "id": "513e19a9",
   "metadata": {},
   "outputs": [],
   "source": [
    "utilizaciones['Precio'].max() #El precio máximo pagado es de 541,000,682.5"
   ]
  },
  {
   "cell_type": "code",
   "execution_count": null,
   "id": "2362171e",
   "metadata": {},
   "outputs": [],
   "source": [
    "utilizaciones.columns"
   ]
  },
  {
   "cell_type": "code",
   "execution_count": null,
   "id": "935a0edc",
   "metadata": {},
   "outputs": [],
   "source": [
    "df=utilizaciones.groupby(['Reclamacion_codigo'])[['Precio']].mean().reset_index()\n"
   ]
  },
  {
   "cell_type": "code",
   "execution_count": null,
   "id": "3596d906",
   "metadata": {},
   "outputs": [],
   "source": [
    "df.plot() #Los usuarios que mayor precio del seguro pagan son los que están entre los códigos 20 y 25. "
   ]
  },
  {
   "cell_type": "code",
   "execution_count": null,
   "id": "0e90e867",
   "metadata": {},
   "outputs": [],
   "source": [
    "df=utilizaciones.groupby(['Diagnostico_Codigo'])[['Cantidad']].sum().reset_index()"
   ]
  },
  {
   "cell_type": "code",
   "execution_count": null,
   "id": "5f97c815",
   "metadata": {},
   "outputs": [],
   "source": [
    "df=df[df['Diagnostico_Codigo']!='9'] #El comportamiento de los clientes que si tuvieron un diagnositco"
   ]
  },
  {
   "cell_type": "code",
   "execution_count": null,
   "id": "0ec3ad1e",
   "metadata": {},
   "outputs": [],
   "source": [
    "df.plot() "
   ]
  }
 ],
 "metadata": {
  "kernelspec": {
   "display_name": "Python 3 (ipykernel)",
   "language": "python",
   "name": "python3"
  },
  "language_info": {
   "codemirror_mode": {
    "name": "ipython",
    "version": 3
   },
   "file_extension": ".py",
   "mimetype": "text/x-python",
   "name": "python",
   "nbconvert_exporter": "python",
   "pygments_lexer": "ipython3",
   "version": "3.9.7"
  }
 },
 "nbformat": 4,
 "nbformat_minor": 5
}
