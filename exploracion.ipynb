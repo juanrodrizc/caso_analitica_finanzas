{
 "cells": [
  {
   "cell_type": "markdown",
   "id": "5e7cc286",
   "metadata": {},
   "source": [
    "**Exploración**"
   ]
  },
  {
   "cell_type": "code",
   "execution_count": 5,
   "id": "f57e63da",
   "metadata": {},
   "outputs": [],
   "source": [
    "import sqlite3 as sql\n",
    "import pandas as pd\n",
    "import matplotlib.pyplot as plt\n",
    "from PIL import Image\n",
    "import numpy as np"
   ]
  },
  {
   "cell_type": "code",
   "execution_count": 6,
   "id": "710ca4ad",
   "metadata": {},
   "outputs": [],
   "source": [
    "###### para ejecutar sql y conectarse a bd ###\n",
    "conn=sql.connect('BD_insurance2019dataset')\n",
    "cur=conn.cursor()"
   ]
  },
  {
   "cell_type": "code",
   "execution_count": 7,
   "id": "f913448a",
   "metadata": {},
   "outputs": [
    {
     "name": "stdout",
     "output_type": "stream",
     "text": [
      "[('reclamaciones',), ('diagnosticos',), ('regional',), ('genero',), ('sociodemograficas',), ('utilizaciones',)]\n"
     ]
    }
   ],
   "source": [
    "### para verificar las tablas que hay disponibles\n",
    "cur.execute(\"SELECT name FROM sqlite_master WHERE type='table';\")\n",
    "print(cur.fetchall()) # 'reclamaciones','diagnosticos', 'regional', 'genero','sociodemograficas','utilizaciones'"
   ]
  },
  {
   "cell_type": "code",
   "execution_count": 8,
   "id": "60d1f1ec",
   "metadata": {},
   "outputs": [],
   "source": [
    "############ cargar tablas ####\n",
    "utilizaciones = pd.read_sql(\"SELECT * FROM utilizaciones; \",conn)\n",
    "reclamaciones = pd.read_sql(\"SELECT * FROM reclamaciones; \",conn)\n",
    "regional = pd.read_sql(\"SELECT * FROM regional; \",conn)\n",
    "genero = pd.read_sql(\"SELECT * FROM genero; \",conn)\n",
    "sociodemograficas = pd.read_sql(\"SELECT * FROM sociodemograficas; \",conn)\n",
    "diagnosticos = pd.read_sql(\"SELECT * FROM diagnosticos; \",conn)"
   ]
  },
  {
   "cell_type": "code",
   "execution_count": 9,
   "id": "6c622f97",
   "metadata": {},
   "outputs": [
    {
     "name": "stdout",
     "output_type": "stream",
     "text": [
      "<class 'pandas.core.frame.DataFrame'>\n",
      "RangeIndex: 3 entries, 0 to 2\n",
      "Data columns (total 2 columns):\n",
      " #   Column     Non-Null Count  Dtype \n",
      "---  ------     --------------  ----- \n",
      " 0   Sexo_Cd    3 non-null      object\n",
      " 1   Sexo_desc  3 non-null      object\n",
      "dtypes: object(2)\n",
      "memory usage: 176.0+ bytes\n"
     ]
    },
    {
     "data": {
      "text/plain": [
       "0"
      ]
     },
     "execution_count": 9,
     "metadata": {},
     "output_type": "execute_result"
    }
   ],
   "source": [
    "### Identificar campos de cruce y verificar que estén en mismo formato ####\n",
    "### verificar duplicados\n",
    "\n",
    "genero.info() # Se observa que tiene 2 campos, el Sexo cd y la descripción \n",
    "genero.head() # Es una tabla descriptiva de los valores asociados en otras tablas\n",
    "genero.duplicated().sum() #No se tienen duplicados "
   ]
  },
  {
   "cell_type": "code",
   "execution_count": 10,
   "id": "2b90667f",
   "metadata": {},
   "outputs": [
    {
     "name": "stdout",
     "output_type": "stream",
     "text": [
      "<class 'pandas.core.frame.DataFrame'>\n",
      "RangeIndex: 6 entries, 0 to 5\n",
      "Data columns (total 2 columns):\n",
      " #   Column         Non-Null Count  Dtype \n",
      "---  ------         --------------  ----- \n",
      " 0   Regional_id    6 non-null      int64 \n",
      " 1   Regional_Desc  6 non-null      object\n",
      "dtypes: int64(1), object(1)\n",
      "memory usage: 224.0+ bytes\n"
     ]
    },
    {
     "data": {
      "text/plain": [
       "0"
      ]
     },
     "execution_count": 10,
     "metadata": {},
     "output_type": "execute_result"
    }
   ],
   "source": [
    "regional.info() # Se observa que tiene 2 campos, id de la región y descripción de cada región \n",
    "regional.head() # Es una tabla descriptiva de los valores asociados en otras tablas\n",
    "regional.duplicated().sum() #No se tienen duplicados"
   ]
  },
  {
   "cell_type": "code",
   "execution_count": null,
   "id": "8d5881b6",
   "metadata": {},
   "outputs": [],
   "source": []
  }
 ],
 "metadata": {
  "kernelspec": {
   "display_name": "Python 3 (ipykernel)",
   "language": "python",
   "name": "python3"
  },
  "language_info": {
   "codemirror_mode": {
    "name": "ipython",
    "version": 3
   },
   "file_extension": ".py",
   "mimetype": "text/x-python",
   "name": "python",
   "nbconvert_exporter": "python",
   "pygments_lexer": "ipython3",
   "version": "3.9.13"
  }
 },
 "nbformat": 4,
 "nbformat_minor": 5
}
